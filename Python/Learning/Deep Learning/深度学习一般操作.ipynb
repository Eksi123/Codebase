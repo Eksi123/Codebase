{
 "cells": [
  {
   "cell_type": "code",
   "execution_count": 1,
   "metadata": {},
   "outputs": [],
   "source": [
    "# 导入函数库和公共数据集\n",
    "import keras # 深度学习Keras框架\n",
    "from keras.models import Sequential # \n",
    "from keras.layers import Dense # 神经网络全连接层\n",
    "from keras.optimizers import SGD   # 随机梯度下降优化算法\n",
    "import keras.datasets.mnist as mnist # 数字手写识别数据集"
   ]
  },
  {
   "cell_type": "code",
   "execution_count": null,
   "metadata": {},
   "outputs": [],
   "source": [
    "# 数据集划分\n",
    "import matplotlib.pyplot as plt\n",
    "(train_images, train_labels), (test_images, test_labels) = mnist.load_data()\n",
    "print(train_images.ndim, train_labels.ndim) # 张量数据集阶数，第一阶也称样例维度\n",
    "print(train_images.shape, train_labels.shape) # 张量数据集各阶维数\n",
    "print(train_images.dtype, train_labels.dtype) # 数据类型\n",
    "\n",
    "print(train_images) # 手写数据集中2D图片二进制码数据（单个bit存储一个像素）\n",
    "image = train_images[0] # 以训练集中第1张图片像素数据为例进行展示\n",
    "plt.imshow(image, cmap = plt.cm.binary) # 像素数据转图片\n",
    "plt.show()"
   ]
  },
  {
   "cell_type": "code",
   "execution_count": null,
   "metadata": {},
   "outputs": [],
   "source": [
    "# 数据预处理\n"
   ]
  }
 ],
 "metadata": {
  "kernelspec": {
   "display_name": "Python 3.10.0 64-bit",
   "language": "python",
   "name": "python3"
  },
  "language_info": {
   "codemirror_mode": {
    "name": "ipython",
    "version": 3
   },
   "file_extension": ".py",
   "mimetype": "text/x-python",
   "name": "python",
   "nbconvert_exporter": "python",
   "pygments_lexer": "ipython3",
   "version": "3.10.0"
  },
  "orig_nbformat": 4,
  "vscode": {
   "interpreter": {
    "hash": "369f2c481f4da34e4445cda3fffd2e751bd1c4d706f27375911949ba6bb62e1c"
   }
  }
 },
 "nbformat": 4,
 "nbformat_minor": 2
}
