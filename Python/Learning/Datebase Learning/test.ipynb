{
 "cells": [
  {
   "cell_type": "code",
   "execution_count": null,
   "metadata": {},
   "outputs": [],
   "source": [
    "import numpy as np\n",
    "class Graph: \n",
    "    def __init__(self):\n",
    "        self.dict={} # 邻接表\n",
    "    \n",
    "    def add_vertex(self,new_vertex): # 初始化邻接表\n",
    "        self.dict[new_vertex]={}\n",
    "        return self.dict\n",
    "\n",
    "    def add_edge(self,vertex1,vertex2,weight): # 载入边（输入两顶点名称）\n",
    "        if vertex1==vertex2:\n",
    "            print(\"error!\")\n",
    "        else:\n",
    "            self.dict[vertex1][vertex2]=weight # 若存在单向指向关系，则只添加其中一项\n",
    "            self.dict[vertex2][vertex1]=weight\n",
    "\n",
    "    def show_dict(self): # 展示整个邻接表\n",
    "        for vertex_start in self.dict:\n",
    "            print(vertex_start+\":\",end=\" \")\n",
    "            for vertex_end in self.dict[vertex_start]:\n",
    "                print(vertex_end,end=\" \")\n",
    "            print(\"\\n\")\n",
    "\n",
    "List=[\"A\",\"B\",\"C\",\"D\",\"E\",\"F\",\"G\"] \n",
    "graph=Graph() \n",
    "for i in range(len(List)): # 载入顶点\n",
    "    graph.add_vertex(List[i]) \n",
    "graph.add_edge(\"A\",\"B\",3) # 载入边\n",
    "graph.add_edge(\"A\",\"C\",1)\n",
    "graph.add_edge(\"B\",\"C\",2)\n",
    "graph.add_edge(\"B\",\"D\",4)\n",
    "graph.add_edge(\"B\",\"E\",2)\n",
    "graph.add_edge(\"C\",\"E\",5)\n",
    "graph.add_edge(\"D\",\"F\",3)\n",
    "graph.add_edge(\"E\",\"F\",2)\n",
    "graph.add_edge(\"E\",\"G\",5)\n",
    "graph.add_edge(\"F\",\"G\",2)\n",
    "\n",
    "\"\"\"\n",
    "图的结构如下：\n",
    "           \n",
    "           B --- D -- F\n",
    "         / | \\      / |\n",
    "        A  |  \\    /  |\n",
    "         \\ |   \\  /   |\n",
    "           C --- E -- G\n",
    "权重：\n",
    "A<->B(3) A<->C(1) \n",
    "B<->C(2) B<->D(4) B<->E(2)\n",
    "C<->E(5)\n",
    "D<->F(3)\n",
    "E<->F(2) E<->G(5)\n",
    "F<->G(2)\n",
    "\"\"\""
   ]
  },
  {
   "cell_type": "code",
   "execution_count": null,
   "metadata": {},
   "outputs": [],
   "source": [
    "# Kruskal算法\n"
   ]
  }
 ],
 "metadata": {
  "kernelspec": {
   "display_name": "Python 3.9.13 ('base')",
   "language": "python",
   "name": "python3"
  },
  "language_info": {
   "codemirror_mode": {
    "name": "ipython",
    "version": 3
   },
   "file_extension": ".py",
   "mimetype": "text/x-python",
   "name": "python",
   "nbconvert_exporter": "python",
   "pygments_lexer": "ipython3",
   "version": "3.9.13"
  },
  "orig_nbformat": 4,
  "vscode": {
   "interpreter": {
    "hash": "b09ec625f77bf4fd762565a912b97636504ad6ec901eb2d0f4cf5a7de23e1ee5"
   }
  }
 },
 "nbformat": 4,
 "nbformat_minor": 2
}
