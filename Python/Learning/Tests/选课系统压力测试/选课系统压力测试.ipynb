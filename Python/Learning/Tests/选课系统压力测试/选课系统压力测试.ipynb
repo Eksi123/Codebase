{
 "cells": [
  {
   "cell_type": "code",
   "execution_count": 1,
   "metadata": {},
   "outputs": [
    {
     "data": {
      "text/plain": [
       "'\\n4000个学生在某个时间段内预选1335门课（每个学生允许预选0-1335门【假定不超过20】，预选哪门课随机），预选阶段结束后，每个学生关于每门课得到一个随机数：\\n若某门课被预选，则随机数ran = randint(1,a+b*预选课门数)；反正则ran = Inf。然后针对每门课，对全部400名学生的ran值按从小到大排序，前40名学生\\n可选到该门课（不足40也行），进而得到每个学生的实选课程。选课结束后，统计每个学生的选课情况，调整参数a,b（预计a=10,b=3)，使得预选课程门数为6-8或\\n6-10的学生至少选到一门课的概率最大。\\n\\n1. 随机取样函数 np.random.randint(1,a+b*class_num[i]) 保证不重复\\n2. 每门课都要随机取ran值\\n3. 考虑选上1-8门课的概率\\n'"
      ]
     },
     "execution_count": 1,
     "metadata": {},
     "output_type": "execute_result"
    }
   ],
   "source": [
    "\"\"\"\n",
    "4000个学生在某个时间段内预选1335门课（每个学生允许预选0-1335门，预选哪门课随机），预选阶段结束后，每个学生关于每门课得到一个随机数：\n",
    "若某门课被预选，则随机数ran = randint(1,a+b*预选课门数)；若未被预选则ran = Inf。然后针对每门课，对全部400名学生的ran值按从小到大排序，前40名学生\n",
    "可选到该门课（不足40也行），进而得到每个学生的实选课程。选课结束后，统计每个学生的选课情况，调整参数a,b（预计a=10,b=3)，使得预选课程门数为6-10\n",
    "的学生选到1到8门课的概率最大。\n",
    "\n",
    "1. 随机取样函数 np.random.randint(1,a+b*class_num[i]) 保证不重复\n",
    "2. 每门课都要随机取ran值\n",
    "3. 考虑选上1-8门课的概率\n",
    "\"\"\""
   ]
  },
  {
   "cell_type": "code",
   "execution_count": null,
   "metadata": {},
   "outputs": [],
   "source": [
    "import numpy as np\n",
    "import pandas as pd\n",
    "import matplotlib.pyplot as plt\n",
    "plt.rcParams[\"font.sans-serif\"]=[\"SimHei\"] # 解决中文标题，坐标轴名，刻度名等问题\n",
    "plt.rcParams[\"axes.unicode_minus\"]=False\n",
    "\n",
    "total_student=4000 # 总学生数\n",
    "total_class=1335 # 总课程数\n",
    "student_limit = 40\n",
    "\n",
    "a=12\n",
    "for b in range(1,5):\n",
    "        class_num=np.array([]) # 每个学生预选课程数\n",
    "        for j in range(4000):\n",
    "            class_num = np.append(class_num, np.random.randint(1,1336))\n",
    "\n",
    "        class_={}\n",
    "        for j in range(4000):\n",
    "            class_[j]=np.zeros(1335)\n",
    "            r=np.random.choice(list(range(1335)), size=int(class_num[j]), replace=False)\n",
    "            length = len(r)\n",
    "            for k in range(length):\n",
    "                class_[j][r[k]]=1\n",
    "\n",
    "        class_0 = pd.DataFrame(class_) # 预选课程表\n",
    "        class_1 = pd.DataFrame(np.zeros([1335,4000]),columns=class_0.columns) # 实选课程表\n",
    "        for i in range(class_0.shape[0]): # 行1335\n",
    "            ran_ = np.array([]) # 每门课下每个学生随机数\n",
    "            for j in range(class_0.shape[1]): # 列4000\n",
    "                if class_0[j][i]==0:\n",
    "                    ran_ = np.append(ran_,float('inf')) # 没选该门课则随机数无穷大\n",
    "                else:\n",
    "                    ran_ = np.append(ran_, np.random.randint(1,a+b*class_num[j]))\n",
    "            ran_sort = np.sort(ran_) # 返回从小到大随机数排序\n",
    "            ran_argsort = np.argsort(ran_) # 返回排序后对应索引\n",
    "            flag = 40 \n",
    "            for k in range(40):\n",
    "                if ran_sort[k]==float('Inf'):\n",
    "                    flag = k\n",
    "                    break\n",
    "            class_1.loc[i,ran_argsort[:flag]]=1\n",
    "\n",
    "        prob = {} # 预选对应t-t+4门课的学生，实选到num门课的概率\n",
    "        for num in range(1,9):\n",
    "            for t in range(1,1336,5):\n",
    "                count0 = len(class_num[(class_num>=t)&(class_num<=t+4)]) # 预选t-t+4门课的学生数\n",
    "                index = np.where((class_num>=t)&(class_num<=t+4))[0] # 预选t-t+4门课的学生索引\n",
    "                count1 = 0 # 上述学生选到num门课的数目\n",
    "                for idx in index:\n",
    "                    if class_1[idx].sum()==num:\n",
    "                        count1 = count1+1\n",
    "                if count0>0:\n",
    "                    prob[t] = count1/count0\n",
    "                else:\n",
    "                    prob[t] = 0\n",
    "\n",
    "            # 可视化\n",
    "            prob_ = []\n",
    "            for k in prob:\n",
    "                prob_.append(prob[k])\n",
    "            \n",
    "            # 求实选中num门课概率最大时，应该预选多少门课\n",
    "            prob_max = max(prob_)\n",
    "            idx_max = prob_.index(max(prob_))*5+1\n",
    "            print('当参数a='+str(a)+\" b=\"+str(b)+\"时，\"+\n",
    "                '预选'+str(idx_max)+'-'+str(idx_max+4)+'门课的学生,实选到'+\n",
    "                str(num)+'门课的概率最大，为:'+str(prob_max))\n",
    "        print('-------------------------------------------------')\n",
    "\n",
    "    # plt.figure(figsize=[8,8])\n",
    "    # plt.scatter(list(range(1,1336,5)), prob_)\n",
    "    # plt.xlabel('预选课程数区间t-t+4')\n",
    "    # plt.ylabel('选到'+str(num)+'门课概率')\n",
    "    # plt.savefig('选到'+str(num)+'门课概率分布.png')\n"
   ]
  },
  {
   "cell_type": "code",
   "execution_count": null,
   "metadata": {},
   "outputs": [],
   "source": [
    "prob = {} # 预选对应t-t+4门课的学生，至少实选到num门课的概率\n",
    "for num in range(1,9):\n",
    "    for t in range(1,1336,5):\n",
    "        count0 = len(class_num[(class_num>=t)&(class_num<=t+4)]) # 预选t-t+4门课的学生数\n",
    "        index = np.where((class_num>=t)&(class_num<=t+4))[0] # 预选t-t+4门课的学生索引\n",
    "        count1 = 0 # 上述学生选到num门课的数目\n",
    "        for idx in index:\n",
    "            if class_1[idx].sum()>=num:\n",
    "                count1 = count1+1\n",
    "        if count0>0:\n",
    "            prob[t] = count1/count0\n",
    "        else:\n",
    "            prob[t] = 0\n",
    "\n",
    "    # 可视化\n",
    "    prob_ = []\n",
    "    for k in prob:\n",
    "        prob_.append(prob[k])\n",
    "\n",
    "    plt.figure(figsize=[8,8])\n",
    "    plt.scatter(list(range(1,1336,5)), prob_)\n",
    "    plt.xlabel('预选课程数区间t-t+4')\n",
    "    plt.ylabel('至少选到'+str(num)+'门课概率')\n",
    "    plt.savefig('至少选到'+str(num)+'门课概率分布.png')"
   ]
  }
 ],
 "metadata": {
  "kernelspec": {
   "display_name": "pytorch",
   "language": "python",
   "name": "python3"
  },
  "language_info": {
   "codemirror_mode": {
    "name": "ipython",
    "version": 3
   },
   "file_extension": ".py",
   "mimetype": "text/x-python",
   "name": "python",
   "nbconvert_exporter": "python",
   "pygments_lexer": "ipython3",
   "version": "3.10.9"
  },
  "orig_nbformat": 4
 },
 "nbformat": 4,
 "nbformat_minor": 2
}
