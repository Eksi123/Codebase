{
 "cells": [
  {
   "cell_type": "code",
   "execution_count": 2,
   "metadata": {},
   "outputs": [],
   "source": [
    "import sympy as sym\n",
    "\n",
    "sym.init_printing()\n",
    "\n",
    "x,y = sym.symbols('x y') # 定义符号\n"
   ]
  },
  {
   "cell_type": "code",
   "execution_count": 5,
   "metadata": {},
   "outputs": [
    {
     "name": "stdout",
     "output_type": "stream",
     "text": [
      "Matrix([[x**2, 2*x, 1, 0, 0], [0, x**2, 2*x, 0, 0], [0, 0, x**2, 0, 0], [0, 0, 0, y**2, 2*y], [0, 0, 0, 0, y**2]])\n",
      "Matrix([[x**3, 3*x**2, 3*x, 0, 0], [0, x**3, 3*x**2, 0, 0], [0, 0, x**3, 0, 0], [0, 0, 0, y**3, 3*y**2], [0, 0, 0, 0, y**3]])\n",
      "Matrix([[-x*y**2/(x**2 - 2*x*y + y**2), (3*x*y**2 - y**3)/(x**3 - 3*x**2*y + 3*x*y**2 - y**3), x**2*y/(x**2 - 2*x*y + y**2), -x**2*y/(x**2 - 2*x*y + y**2), (x**3 - 3*x**2*y)/(x**3 - 3*x**2*y + 3*x*y**2 - y**3)], [(2*x*y + y**2)/(x**2 - 2*x*y + y**2), -6*x*y/(x**3 - 3*x**2*y + 3*x*y**2 - y**3), (-x**2 - 2*x*y)/(x**2 - 2*x*y + y**2), (x**2 + 2*x*y)/(x**2 - 2*x*y + y**2), 6*x*y/(x**3 - 3*x**2*y + 3*x*y**2 - y**3)], [(-x - 2*y)/(x**2 - 2*x*y + y**2), (3*x + 3*y)/(x**3 - 3*x**2*y + 3*x*y**2 - y**3), (2*x + y)/(x**2 - 2*x*y + y**2), (-2*x - y)/(x**2 - 2*x*y + y**2), (-3*x - 3*y)/(x**3 - 3*x**2*y + 3*x*y**2 - y**3)], [1/(x**2 - 2*x*y + y**2), -2/(x**3 - 3*x**2*y + 3*x*y**2 - y**3), -1/(x**2 - 2*x*y + y**2), 1/(x**2 - 2*x*y + y**2), 2/(x**3 - 3*x**2*y + 3*x*y**2 - y**3)], [0, 0, 1, 0, 0]])\n"
     ]
    }
   ],
   "source": [
    "# 可控子系统\n",
    "\n",
    "matrix_A = sym.Matrix([\n",
    "    [x,  1,  0,  0,  0],\n",
    "    [0,  x,  1,  0,  0],\n",
    "    [0,  0,  x,  0,  0],\n",
    "    [0,  0,  0,  y,  1],\n",
    "    [0,  0,  0,  0,  y],\n",
    "])\n",
    "\n",
    "print(matrix_A*matrix_A)\n",
    "print(matrix_A*matrix_A*matrix_A)\n",
    "\n",
    "matrix_P_inv = sym.Matrix([\n",
    "    [0,  1,  2*x,  3*x**2,  0],\n",
    "    [1,  x,  x**2,  x**3,  0],\n",
    "    [0,  0,  0,  0,  1],\n",
    "    [0,  1,  2*y,  3*y**2,  1],\n",
    "    [1,  y,  y**2,  y**3,  0],\n",
    "])\n",
    "\n",
    "print(matrix_P_inv.inv())"
   ]
  }
 ],
 "metadata": {
  "kernelspec": {
   "display_name": "Python 3.9.13 ('base')",
   "language": "python",
   "name": "python3"
  },
  "language_info": {
   "codemirror_mode": {
    "name": "ipython",
    "version": 3
   },
   "file_extension": ".py",
   "mimetype": "text/x-python",
   "name": "python",
   "nbconvert_exporter": "python",
   "pygments_lexer": "ipython3",
   "version": "3.9.13"
  },
  "orig_nbformat": 4,
  "vscode": {
   "interpreter": {
    "hash": "b09ec625f77bf4fd762565a912b97636504ad6ec901eb2d0f4cf5a7de23e1ee5"
   }
  }
 },
 "nbformat": 4,
 "nbformat_minor": 2
}
