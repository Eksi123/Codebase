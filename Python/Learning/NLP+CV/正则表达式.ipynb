{
 "cells": [
  {
   "cell_type": "code",
   "execution_count": 1,
   "metadata": {},
   "outputs": [
    {
     "data": {
      "text/plain": [
       "'\\n正则表达式是文本检索和编辑的强大工具，通过使用正则表达式，可以：\\n1.测试字符串内的模式。\\n例如，可以测试输入字符串，以查看字符串内是否出现电话号码模式或信用卡号码模式。这称为数据验证。\\n2.替换文本。\\n可以使用正则表达式来识别文档中的特定文本，完全删除该文本或者用其他文本替换它。\\n3.基于模式匹配从字符串中提取子字符串。\\n可以查找文档内或输入域内特定的文本。\\n\\n例如，您可能需要搜索整个网站，删除过时的材料，以及替换某些 HTML 格式标记。在这种情况下，可以使用正则表达式来确定在每个文件中\\n是否出现该材料或该 HTML 格式标记。此过程将受影响的文件列表缩小到包含需要删除或更改的材料的那些文件。然后可以使用正则表达式来删除过时的材料。\\n最后，可以使用正则表达式来搜索和替换标记。\\n\\n常用的正则表达式函数如下\\n1. re.match(pattern, string, flags)\\n2 \\n'"
      ]
     },
     "execution_count": 1,
     "metadata": {},
     "output_type": "execute_result"
    }
   ],
   "source": [
    "\"\"\"\n",
    "正则表达式是文本检索和编辑的强大工具，其底层与字符串匹配算法紧密相关，通过使用正则表达式，可以：\n",
    "1.测试字符串内的模式。\n",
    "例如，可以测试输入字符串，以查看字符串内是否出现电话号码模式或信用卡号码模式。这称为数据验证。\n",
    "2.替换文本。\n",
    "可以使用正则表达式来识别文档中的特定文本，完全删除该文本或者用其他文本替换它。\n",
    "3.基于模式匹配从字符串中提取子字符串。\n",
    "可以查找文档内或输入域内特定的文本。\n",
    "\n",
    "例如，您可能需要搜索整个网站，删除过时的材料，以及替换某些 HTML 格式标记。在这种情况下，可以使用正则表达式来确定在每个文件中\n",
    "是否出现该材料或该 HTML 格式标记。此过程将受影响的文件列表缩小到包含需要删除或更改的材料的那些文件。然后可以使用正则表达式来删除过时的材料。\n",
    "最后，可以使用正则表达式来搜索和替换标记。\n",
    "\n",
    "常见正则表达式函数有三个基本参数，正则项（正则表达式），字符串和标志位\n",
    "1 字符串：待匹配的字符串\n",
    "\n",
    "2 正则项：需要匹配的字符串，其书写具有一定模式，常见如下：\n",
    "【1】最简单的，为指定的某字符串，如\"abc\"，如需匹配ab和bc两个字符串之一，则可写\"ab|bc\"\n",
    "【2】单字符正则项：\\d(单数字)、\\D(单个非数字)、\\s(单空格)、\\S(单个非空格)、\\w(单词单字符)、\\W(非单词字符)、[abc](abc中任一个)\n",
    "    若考虑数量，则可以在字符后加上：*(出现0次及以上)、+(出现1次及以上)、?(出现1次或0次)、{n}(出现n次)、{n.}(至少出现n次)、{n.m}(出现n到m次)\n",
    "【3】边界正则项：.*d$(以d结尾的正则项)、^d.*(以d开头的正则项)、^d.*c$(d开头c结尾的正则项)\n",
    "\n",
    "3 标志位：参数flags为标志位，可用于修改匹配方法，常见如下：\n",
    "re.I 忽略大小写\n",
    "re.L 表示特殊字符集 \\w, \\W, \\b, \\B, \\s, \\S 依赖于当前环境\n",
    "re.M 多行模式\n",
    "re.S 即为 . 并且包括换行符在内的任意字符（. 不包括换行符）\n",
    "re.U 表示特殊字符集 \\w, \\W, \\b, \\B, \\d, \\D, \\s, \\S 依赖于 Unicode 字符属性数据库\n",
    "re.X 为了增加可读性，忽略空格和 # 后面的注释\n",
    "\"\"\""
   ]
  },
  {
   "cell_type": "code",
   "execution_count": null,
   "metadata": {},
   "outputs": [],
   "source": [
    "# re.match和re.search检索函数\n",
    "import re\n",
    "pattern = \"abc\" # 正则项\n",
    "string = \"abCabc34dcbabc\" # 字符串\n",
    "\n",
    "result1 = re.match(pattern,string,flags=0) # match函数，只匹配字符串头部，返回None\n",
    "\"\"\"\n",
    "re.match(pattern,string,flags=re.I)当不要求大小写时返回值不为none\n",
    "\"\"\"\n",
    "result2 = re.search(pattern,string,flags=0) # search函数，匹配整个字符串，返回<re.Match object; span=(3, 6), match='abc'>\n",
    "result2.span() # 从span中提取匹配到的位置，返回(3,6)"
   ]
  },
  {
   "cell_type": "code",
   "execution_count": 17,
   "metadata": {},
   "outputs": [
    {
     "name": "stdout",
     "output_type": "stream",
     "text": [
      "['ab', 'ab', 'ab', 'bc']\n"
     ]
    }
   ],
   "source": [
    "# re.findall查找函数\n",
    "import re\n",
    "pattern = \"ab|bc\" # 正则项\n",
    "string = \"abCabc34dcbabbc\" # 字符串\n",
    "# pos = 0; endpos = 10 匹配字符串的起始位置\n",
    "\n",
    "result = re.findall(pattern,string,) # findall函数，默认匹配整个字符串，返回['ab', 'ab', 'ab', 'bc']"
   ]
  },
  {
   "cell_type": "code",
   "execution_count": 15,
   "metadata": {},
   "outputs": [
    {
     "name": "stdout",
     "output_type": "stream",
     "text": [
      "abABC34dcbABC\n"
     ]
    }
   ],
   "source": [
    "# re.sub检索替换函数\n",
    "import re\n",
    "pattern = \"abc\" # 正则项\n",
    "repl = \"ABC\" # 替换项\n",
    "string = \"ababc34dcbabc\" # 字符串\n",
    "count = 0 # 替换次数，默认0为全部替换\n",
    "\n",
    "result = re.sub(pattern, repl, string, count, flags=0) # sub检索替换函数，返回abABC34dcbABC"
   ]
  },
  {
   "cell_type": "code",
   "execution_count": 18,
   "metadata": {},
   "outputs": [
    {
     "name": "stdout",
     "output_type": "stream",
     "text": [
      "['abab', '34d', 'bab', '']\n"
     ]
    }
   ],
   "source": [
    "# re.split检索分割函数\n",
    "import re\n",
    "pattern = \"c\" # 正则项\n",
    "string = \"ababc34dcbabc\" # 字符串\n",
    "maxsplit = 0 # 分割次数，默认0全部分割\n",
    "\n",
    "result = re.split(pattern,string,maxsplit) # split检索分割函数，返回['abab', '34d', 'bab', '']"
   ]
  }
 ],
 "metadata": {
  "kernelspec": {
   "display_name": "pytorch",
   "language": "python",
   "name": "python3"
  },
  "language_info": {
   "codemirror_mode": {
    "name": "ipython",
    "version": 3
   },
   "file_extension": ".py",
   "mimetype": "text/x-python",
   "name": "python",
   "nbconvert_exporter": "python",
   "pygments_lexer": "ipython3",
   "version": "3.10.0"
  },
  "orig_nbformat": 4,
  "vscode": {
   "interpreter": {
    "hash": "5b5292cc5f82d8561d05c044f8ed41e8f78352f5ad17a4513f2686858f295381"
   }
  }
 },
 "nbformat": 4,
 "nbformat_minor": 2
}
