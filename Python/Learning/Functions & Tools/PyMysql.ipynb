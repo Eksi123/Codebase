{
 "cells": [
  {
   "cell_type": "code",
   "execution_count": 50,
   "metadata": {},
   "outputs": [
    {
     "name": "stdout",
     "output_type": "stream",
     "text": [
      "('db1',)\n",
      "('information_schema',)\n",
      "('mysql',)\n",
      "('performance_schema',)\n",
      "('sys',)\n"
     ]
    },
    {
     "data": {
      "text/plain": [
       "0"
      ]
     },
     "execution_count": 50,
     "metadata": {},
     "output_type": "execute_result"
    }
   ],
   "source": [
    "\"\"\"\n",
    "在日常的学习工作中，我们可能会涉及到使用其他编程语言来对mysql数据库进行操作。其原理即在于通过mysql与其他编程语言\n",
    "的接口，对目标数据库进行连接，并通过执行mysql语句来操作数据库，我们以python为例进行介绍：\n",
    "\"\"\"\n",
    "\n",
    "# 1.连接mysql数据库\n",
    "import pymysql # 类似的包还有mysql.connector\n",
    "\n",
    "conn = pymysql.connect(\n",
    "  host=\"localhost\",  # 数据库主机地址（本地默认为localhost）\n",
    "  port = 3306,\n",
    "  user=\"root\",    # 数据库用户名\n",
    "  passwd=\"187733\"   # 数据库密码\n",
    "  # database = \"mysql\" 可以直接连接目标数据库\n",
    ")\n",
    "cursor = conn.cursor() # 创建光标对象\n",
    "\n",
    "try:\n",
    "  sql = \"show databases\" # sql语句\n",
    "  cursor.execute(sql) # 查看有哪些数据库\n",
    "  result = cursor.fetchall() # 获取并输出全部执行结果\n",
    "  for db in result:\n",
    "      print(db)\n",
    "except:\n",
    "   db.rollback() # 发生错误时回滚\n",
    "\n",
    "cursor.execute(\"use mysql\") # 连接数据库mysql\n",
    "\n",
    "# conn.close() 断开mysql数据库连接"
   ]
  },
  {
   "cell_type": "code",
   "execution_count": 51,
   "metadata": {},
   "outputs": [
    {
     "name": "stdout",
     "output_type": "stream",
     "text": [
      "(('columns_priv',), ('component',), ('db',), ('default_roles',), ('engine_cost',), ('func',), ('general_log',), ('global_grants',), ('gtid_executed',), ('help_category',), ('help_keyword',), ('help_relation',), ('help_topic',), ('innodb_index_stats',), ('innodb_table_stats',), ('ndb_binlog_index',), ('password_history',), ('plugin',), ('procs_priv',), ('proxies_priv',), ('replication_asynchronous_connection_failover',), ('replication_asynchronous_connection_failover_managed',), ('replication_group_configuration_version',), ('replication_group_member_actions',), ('role_edges',), ('server_cost',), ('servers',), ('slave_master_info',), ('slave_relay_log_info',), ('slave_worker_info',), ('slow_log',), ('tables_priv',), ('time_zone',), ('time_zone_leap_second',), ('time_zone_name',), ('time_zone_transition',), ('time_zone_transition_type',), ('user',))\n",
      "(('Host', 'char(255)', 'NO', 'PRI', '', ''), ('User', 'char(32)', 'NO', 'PRI', '', ''), ('Select_priv', \"enum('N','Y')\", 'NO', '', 'N', ''), ('Insert_priv', \"enum('N','Y')\", 'NO', '', 'N', ''), ('Update_priv', \"enum('N','Y')\", 'NO', '', 'N', ''), ('Delete_priv', \"enum('N','Y')\", 'NO', '', 'N', ''), ('Create_priv', \"enum('N','Y')\", 'NO', '', 'N', ''), ('Drop_priv', \"enum('N','Y')\", 'NO', '', 'N', ''), ('Reload_priv', \"enum('N','Y')\", 'NO', '', 'N', ''), ('Shutdown_priv', \"enum('N','Y')\", 'NO', '', 'N', ''), ('Process_priv', \"enum('N','Y')\", 'NO', '', 'N', ''), ('File_priv', \"enum('N','Y')\", 'NO', '', 'N', ''), ('Grant_priv', \"enum('N','Y')\", 'NO', '', 'N', ''), ('References_priv', \"enum('N','Y')\", 'NO', '', 'N', ''), ('Index_priv', \"enum('N','Y')\", 'NO', '', 'N', ''), ('Alter_priv', \"enum('N','Y')\", 'NO', '', 'N', ''), ('Show_db_priv', \"enum('N','Y')\", 'NO', '', 'N', ''), ('Super_priv', \"enum('N','Y')\", 'NO', '', 'N', ''), ('Create_tmp_table_priv', \"enum('N','Y')\", 'NO', '', 'N', ''), ('Lock_tables_priv', \"enum('N','Y')\", 'NO', '', 'N', ''), ('Execute_priv', \"enum('N','Y')\", 'NO', '', 'N', ''), ('Repl_slave_priv', \"enum('N','Y')\", 'NO', '', 'N', ''), ('Repl_client_priv', \"enum('N','Y')\", 'NO', '', 'N', ''), ('Create_view_priv', \"enum('N','Y')\", 'NO', '', 'N', ''), ('Show_view_priv', \"enum('N','Y')\", 'NO', '', 'N', ''), ('Create_routine_priv', \"enum('N','Y')\", 'NO', '', 'N', ''), ('Alter_routine_priv', \"enum('N','Y')\", 'NO', '', 'N', ''), ('Create_user_priv', \"enum('N','Y')\", 'NO', '', 'N', ''), ('Event_priv', \"enum('N','Y')\", 'NO', '', 'N', ''), ('Trigger_priv', \"enum('N','Y')\", 'NO', '', 'N', ''), ('Create_tablespace_priv', \"enum('N','Y')\", 'NO', '', 'N', ''), ('ssl_type', \"enum('','ANY','X509','SPECIFIED')\", 'NO', '', '', ''), ('ssl_cipher', 'blob', 'NO', '', None, ''), ('x509_issuer', 'blob', 'NO', '', None, ''), ('x509_subject', 'blob', 'NO', '', None, ''), ('max_questions', 'int unsigned', 'NO', '', '0', ''), ('max_updates', 'int unsigned', 'NO', '', '0', ''), ('max_connections', 'int unsigned', 'NO', '', '0', ''), ('max_user_connections', 'int unsigned', 'NO', '', '0', ''), ('plugin', 'char(64)', 'NO', '', 'caching_sha2_password', ''), ('authentication_string', 'text', 'YES', '', None, ''), ('password_expired', \"enum('N','Y')\", 'NO', '', 'N', ''), ('password_last_changed', 'timestamp', 'YES', '', None, ''), ('password_lifetime', 'smallint unsigned', 'YES', '', None, ''), ('account_locked', \"enum('N','Y')\", 'NO', '', 'N', ''), ('Create_role_priv', \"enum('N','Y')\", 'NO', '', 'N', ''), ('Drop_role_priv', \"enum('N','Y')\", 'NO', '', 'N', ''), ('Password_reuse_history', 'smallint unsigned', 'YES', '', None, ''), ('Password_reuse_time', 'smallint unsigned', 'YES', '', None, ''), ('Password_require_current', \"enum('N','Y')\", 'YES', '', None, ''), ('User_attributes', 'json', 'YES', '', None, ''))\n",
      "(('localhost',), ('localhost',), ('localhost',), ('localhost',))\n"
     ]
    }
   ],
   "source": [
    "# 2.基本操作\n",
    "\n",
    "# 2.1 表信息的简单查询\n",
    "try:\n",
    "    # 查看有哪些表\n",
    "    sql = \"show tables\" \n",
    "    cursor.execute(sql)\n",
    "    print(cursor.fetchall())\n",
    "\n",
    "    # 查看表的字段信息\n",
    "    sql = \"describe user\"\n",
    "    cursor.execute(sql)\n",
    "    print(cursor.fetchall())\n",
    "    \n",
    "    # 查看字段值\n",
    "    sql = \"select Host from user\"\n",
    "    cursor.execute(sql)\n",
    "    print(cursor.fetchall())\n",
    "except:\n",
    "    db.rollback()"
   ]
  },
  {
   "cell_type": "code",
   "execution_count": 52,
   "metadata": {},
   "outputs": [],
   "source": [
    "# 2.2 数据库，表信息的创建\n",
    "try:\n",
    "    # 创建数据库db1\n",
    "    sql = \"create database db1 character set utf8\"\n",
    "    cursor.execute(sql)\n",
    "\n",
    "    # 查看有哪些数据库\n",
    "    sql = \"show databases\"\n",
    "    cursor.execute(sql)\n",
    "    print(cursor.fetchall())\n",
    "\n",
    "    # 使用数据库db1\n",
    "    sql = \"use db1\"\n",
    "    cursor.execute(sql)\n",
    "\n",
    "    # 创建并查看表tb1\n",
    "    sql_1 = \"create table tb1 (v1 INT, v2 CHAR(20), v3 INT)\"\n",
    "    sql_2 = \"describe tb1\"\n",
    "    cursor.execute(sql_1)\n",
    "    cursor.execute(sql_2)\n",
    "    print(cursor.fetchall())\n",
    "except:\n",
    "    db.rollback()"
   ]
  },
  {
   "cell_type": "code",
   "execution_count": null,
   "metadata": {},
   "outputs": [
    {
     "name": "stdout",
     "output_type": "stream",
     "text": [
      "((1, 'Tom', 90), (3, 'Lily', 85), (1, 'Tom', 90), (3, 'Lily', 85), (1, 'Tom', 90), (3, 'Lily', 85), (1, 'Tom', 90), (3, 'Lily', 85), (1, 'Tom', 90), (3, 'Lily', 85), (1, 'Tom', 90), (3, 'Lily', 85), (1, 'Tom', 90), (2, 'Bob', 86), (3, 'Lily', 88))\n",
      "((1, 'Tom', 90), (3, 'Lily', 85), (1, 'Tom', 90), (3, 'Lily', 85), (1, 'Tom', 90), (3, 'Lily', 85), (1, 'Tom', 90), (3, 'Lily', 85), (1, 'Tom', 90), (3, 'Lily', 85), (1, 'Tom', 90), (3, 'Lily', 85), (1, 'Tom', 90), (3, 'Lily', 88))\n",
      "((1, 'Tom', 90), (3, 'Lily', 85), (1, 'Tom', 90), (3, 'Lily', 85), (1, 'Tom', 90), (3, 'Lily', 85), (1, 'Tom', 90), (3, 'Lily', 85), (1, 'Tom', 90), (3, 'Lily', 85), (1, 'Tom', 90), (3, 'Lily', 85), (1, 'Tom', 90), (3, 'Lily', 85))\n"
     ]
    }
   ],
   "source": [
    "# 2.3 增删查改数据\n",
    "try:\n",
    "    # 增加记录\n",
    "    sql_1 = \"insert into tb1 values (01, 'Tom', 90),(02, 'Bob', 86),(03, 'Lily', 88)\"\n",
    "    sql_2 = \"select * from tb1\"\n",
    "    cursor.execute(sql_1)\n",
    "    cursor.execute(sql_2)\n",
    "    print(cursor.fetchall())\n",
    "\n",
    "    # 查找并删除记录\n",
    "    sql_1 = \"delete from tb1 where v2='Bob'\"\n",
    "    sql_2 = \"select * from tb1\"\n",
    "    cursor.execute(sql_1)\n",
    "    cursor.execute(sql_2)\n",
    "    print(cursor.fetchall())\n",
    "\n",
    "    # 查找并修改记录\n",
    "    sql_1 = \"update tb1 set v3=85 where v2='Lily'\"\n",
    "    sql_2 = \"select * from tb1\"\n",
    "    cursor.execute(sql_1)\n",
    "    cursor.execute(sql_2)\n",
    "    print(cursor.fetchall())\n",
    "except:\n",
    "    db.rollback()"
   ]
  }
 ],
 "metadata": {
  "kernelspec": {
   "display_name": "pytorch",
   "language": "python",
   "name": "python3"
  },
  "language_info": {
   "codemirror_mode": {
    "name": "ipython",
    "version": 3
   },
   "file_extension": ".py",
   "mimetype": "text/x-python",
   "name": "python",
   "nbconvert_exporter": "python",
   "pygments_lexer": "ipython3",
   "version": "3.10.0"
  },
  "orig_nbformat": 4
 },
 "nbformat": 4,
 "nbformat_minor": 2
}
