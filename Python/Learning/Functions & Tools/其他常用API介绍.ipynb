{
 "cells": [
  {
   "cell_type": "code",
   "execution_count": null,
   "metadata": {},
   "outputs": [],
   "source": [
    "# os地址路径模块\n",
    "import os\n",
    "\n",
    "os.getcwd() # 获取当前工作区路径\n",
    "os.chdir('path') # 切换工作路径（注意上下级目录间用'\\\\'或'/'连接）\n",
    "\n",
    "os.listdir('path') # 返回某路径下的所有文件（夹）列表\n",
    "os.walk('path') # 返回含路径、文件夹、文件的一个元组（功能很强）\n",
    "\"\"\"\n",
    "对某路径下的文件进行操作\n",
    "tuple = os.walk('path')\n",
    "for path,folders,files in tuple:\n",
    "    n = len(files)\n",
    "    for i in range(n):\n",
    "        xxx\n",
    "\"\"\"\n",
    "os.mkdir('path/folder_name') # 创建某路径下的单个文件夹\n",
    "os.makedirs('path/folder1/folder1.1') # 创建某路径下的多级文件夹\n",
    "\"\"\"\n",
    "如果不确定文件夹是否存在，可采用如下方法：\n",
    "if not os.path.exists('path/folder_name'):\n",
    "    os.mkdir('path/folder_name')\n",
    "\"\"\"\n",
    "os.rmdir('path/folder_name') # 删除某路径下的空文件夹（注意必须为空的！）\n",
    "os.remove('path/file_name') # 删除文件\n",
    "os.rename('path/a.txt','path/b.txt') # 将path路径下a.txt修改为b.txt，类似的还可以修改文件夹名\n",
    "\n",
    "os.path.isdir('path') # 判断当前路径所指是否为文件夹\n",
    "os.path.isfile('path') # 判断当前路径所指是否为文件\n",
    "os.path.dirname('path') # 获取当前路径的上一级路径，如'a:/b/c'->'a:/b'\n",
    "os.path.basename('path') # 获取当前路径所指的文件或文件夹名，如'a:/b/c'->'c'\n",
    "os.path.split('path') # 集合os.path.dirname和os.path.basename功能，如'a:/b/c'->('a:/b','c')\n",
    "os.path.join('path','xxx') # 通常的用法是将路径path和文件（夹）xxx拼接起来\n",
    "\n",
    "\"\"\"\n",
    "如果不清楚各模块和函数的使用，可采用如下方法：\n",
    "dir(os) # 告诉我们模块里面有哪些子模块或函数’\n",
    "help(os.rename) # 告诉我们函数怎么使用\n",
    "\"\"\""
   ]
  },
  {
   "cell_type": "code",
   "execution_count": null,
   "metadata": {},
   "outputs": [],
   "source": [
    "# time、datetime、calender时间模块"
   ]
  },
  {
   "cell_type": "code",
   "execution_count": 62,
   "metadata": {},
   "outputs": [],
   "source": [
    "# shutil 文件【复制】【移动】【解压缩】模块\n",
    "\n",
    "import shutil\n",
    "\n",
    "path0 = 'C:\\\\Users\\\\XGQ\\\\Desktop\\\\Programs\\\\Python\\\\Python程序\\\\Learning\\\\Functions & Tools\\\\folders\\\\2.txt'\n",
    "path1 = 'C:\\\\Users\\\\XGQ\\\\Desktop\\\\Programs\\\\Python\\\\Python程序\\\\Learning\\\\Functions & Tools\\\\folders1'\n",
    "path2 = 'C:\\\\Users\\\\XGQ\\\\Desktop\\\\Programs\\\\Python\\\\Python程序\\\\Learning\\\\Functions & Tools\\\\folders\\\\www'\n",
    "\n",
    "# 复制文件\n",
    "shutil.copy(path0,path1) # path0为源文件路径，path1为目标文件夹路径。若path1为文件路径，则会创建该文件，或覆盖同名文件的内容\n",
    "\n",
    "# 移动文件\n",
    "shutil.move(path0,path1) # path0为源文件路径，path1为目标文件夹路径。\n",
    "\n",
    "# 压缩文件\n",
    "shutil.make_archive(base_name=path2, format='zip', root_dir=path1) # root_dir为待压缩文件夹（不能是文件），format为压缩格式。base_name为压缩文件存放路径\n",
    "\n",
    "# 解压文件\n",
    "shutil.unpack_archive(filename=path2+\".zip\", extract_dir=path0[:-7]) # filename为带解压文件路径，extract_dir为解压地址"
   ]
  }
 ],
 "metadata": {
  "kernelspec": {
   "display_name": "pytorch",
   "language": "python",
   "name": "python3"
  },
  "language_info": {
   "codemirror_mode": {
    "name": "ipython",
    "version": 3
   },
   "file_extension": ".py",
   "mimetype": "text/x-python",
   "name": "python",
   "nbconvert_exporter": "python",
   "pygments_lexer": "ipython3",
   "version": "3.10.9"
  },
  "orig_nbformat": 4
 },
 "nbformat": 4,
 "nbformat_minor": 2
}
