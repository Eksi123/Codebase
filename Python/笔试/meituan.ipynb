{
 "cells": [
  {
   "cell_type": "code",
   "execution_count": 31,
   "metadata": {},
   "outputs": [
    {
     "name": "stdout",
     "output_type": "stream",
     "text": [
      "abcba\n"
     ]
    }
   ],
   "source": [
    "# 输入\n",
    "x = input()\n",
    "string = []\n",
    "for i in range(len(x)): string.append(x[i])\n",
    "\n",
    "# 建立字符与序的字典\n",
    "dict = {'a':1, 'b':2, 'c':3, 'd':4, 'e':5, 'f':6, 'g':7, 'h':8, 'i':9, 'j':10, \n",
    "        'k':11, 'l':12, 'm':13, 'n':14, 'o':15, 'p':16, 'q':17, 'r':18, 's':19, 't':20,\n",
    "        'u':21, 'v':22, 'w':23, 'x':24, 'y':25, 'z':26}\n",
    "\n",
    "# 标记对称位置字符是否相同\n",
    "flag = [] \n",
    "length = len(string)//2\n",
    "for i in range(length):\n",
    "    if string[i]==string[len(string)-i-1]:\n",
    "        flag.append(0)\n",
    "    else:\n",
    "        flag.append(1)\n",
    "\n",
    "# 修改为回文字符串\n",
    "if sum(flag)>2:\n",
    "    print(\"无法修改为回文字符串\")\n",
    "\n",
    "if sum(flag)==0:\n",
    "    for i in range(length):\n",
    "        if string[i]!='a':\n",
    "            string[i],string[len(string)-1-i] = 'a','a'\n",
    "    print(''.join(string))\n",
    "            \n",
    "if sum(flag)==1:\n",
    "    for i in range(length):\n",
    "        if string[i]!=string[len(string)-i-1]:\n",
    "            string[i],string[len(string)-1-i] = 'a','a'\n",
    "    print(''.join(string))\n",
    "    \n",
    "if sum(flag)==2:\n",
    "    for i in range(length):\n",
    "        if string[i]!=string[len(string)-i-1]:\n",
    "            if dict[string[i]]<dict[string[len(string)-i-1]]:\n",
    "                string[len(string)-i-1] = string[i]\n",
    "            else:\n",
    "                string[i] = string[len(string)-i-1]\n",
    "    print(''.join(string))        "
   ]
  },
  {
   "cell_type": "code",
   "execution_count": 35,
   "metadata": {},
   "outputs": [
    {
     "name": "stdout",
     "output_type": "stream",
     "text": [
      "6 4 5\n",
      "['3', '2', '4', '5']\n"
     ]
    }
   ],
   "source": [
    "# 输入\n",
    "m,n,s = int(input()),int(input()),int(input())\n",
    "list = []\n",
    "for i in range(n):\n",
    "    list.append(input())\n",
    "\n",
    "print(m,n,s)\n",
    "print(list)"
   ]
  },
  {
   "cell_type": "code",
   "execution_count": 38,
   "metadata": {},
   "outputs": [
    {
     "data": {
      "text/plain": [
       "5"
      ]
     },
     "execution_count": 38,
     "metadata": {},
     "output_type": "execute_result"
    }
   ],
   "source": [
    "import math\n",
    "math.ceil(4.5)"
   ]
  },
  {
   "cell_type": "code",
   "execution_count": 45,
   "metadata": {},
   "outputs": [
    {
     "name": "stdout",
     "output_type": "stream",
     "text": [
      "0 2\n",
      "0 2\n"
     ]
    }
   ],
   "source": [
    "# 输入\n",
    "n,T = int(input()),int(input())\n",
    "\n",
    "# 城市铁路网\n",
    "net = []\n",
    "for i in range(n-1):\n",
    "    net.append(0)\n",
    "\n",
    "# 模拟\n",
    "for i in range(T):\n",
    "    x = input()\n",
    "    action = x[0]\n",
    "    index = int(x[2])\n",
    "    if action == 'L' and index>1:\n",
    "        net[index-2] = 1\n",
    "    if action == 'R' and index<n:\n",
    "        net[index-1] = 1\n",
    "    if action == 'Q':\n",
    "        flag_left, flag_right = 0,0\n",
    "        for i in range(index-2,-1,-1):\n",
    "            if net[i] == 0:\n",
    "                flag_left = i+2\n",
    "            else:\n",
    "                flag_left = 1\n",
    "        for j in range(index-1,n-1):\n",
    "            if net[j] == 0 :\n",
    "                flag_right = j-1\n",
    "            else:\n",
    "                flag_right = n\n",
    "        print(str(flag_left)+\" \"+str(flag_right))"
   ]
  },
  {
   "cell_type": "code",
   "execution_count": 42,
   "metadata": {},
   "outputs": [
    {
     "data": {
      "text/plain": [
       "'3'"
      ]
     },
     "execution_count": 42,
     "metadata": {},
     "output_type": "execute_result"
    }
   ],
   "source": [
    "a = 'L 3'\n",
    "a[2]"
   ]
  }
 ],
 "metadata": {
  "kernelspec": {
   "display_name": "pytorch-gpu",
   "language": "python",
   "name": "python3"
  },
  "language_info": {
   "codemirror_mode": {
    "name": "ipython",
    "version": 3
   },
   "file_extension": ".py",
   "mimetype": "text/x-python",
   "name": "python",
   "nbconvert_exporter": "python",
   "pygments_lexer": "ipython3",
   "version": "3.11.2"
  },
  "orig_nbformat": 4
 },
 "nbformat": 4,
 "nbformat_minor": 2
}
