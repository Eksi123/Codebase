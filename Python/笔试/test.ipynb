{
 "cells": [
  {
   "cell_type": "code",
   "execution_count": 9,
   "metadata": {},
   "outputs": [
    {
     "name": "stdout",
     "output_type": "stream",
     "text": [
      "[1, 2]\n"
     ]
    }
   ],
   "source": [
    "class Solution:\n",
    "    def twoSum(self, nums, target):\n",
    "        dict = {}\n",
    "        for i in range(len(nums)):\n",
    "            dict[nums[i]] = i\n",
    "        for key in dict:\n",
    "            if (target-key in dict) and (dict[key] != dict[target-key]):\n",
    "                return [dict[key], dict[target-key]]\n",
    "                break\n",
    "\n",
    "print(Solution().twoSum([3,2,4],6))\n"
   ]
  },
  {
   "cell_type": "code",
   "execution_count": 18,
   "metadata": {},
   "outputs": [],
   "source": [
    "# Definition for singly-linked list.\n",
    "class ListNode:\n",
    "    def __init__(self, val = 0, next = None):\n",
    "        self.val = val\n",
    "        self.next = next\n",
    "\n",
    "class Solution:\n",
    "    def addTwoNumbers(self, l1: ListNode, l2: ListNode):\n",
    "        result = current = ListNode()\n",
    "        reminder = 0\n",
    "        while l1 or l2 or reminder!=0:\n",
    "            x = l1.val if l1 else 0\n",
    "            y = l2.val if l2 else 0\n",
    "            total = x + y + reminder\n",
    "            current.next = ListNode(val = total%10)\n",
    "            reminder = total//10\n",
    "            if l1:\n",
    "                l1 = l1.next\n",
    "            if l2:\n",
    "                l2 = l2.next\n",
    "            current = current.next\n",
    "        return result.next"
   ]
  },
  {
   "cell_type": "code",
   "execution_count": null,
   "metadata": {},
   "outputs": [],
   "source": [
    "class Solution:\n",
    "    def lengthOfLongestSubstring(self, s: str) -> int:\n",
    "        result = length = 0\n",
    "        list = []\n",
    "        while s:\n",
    "            for i in s:\n",
    "                if i not in list:\n",
    "                    list.append(i)\n",
    "                    length += 1\n",
    "                    print(list)\n",
    "                else:\n",
    "                    print(i)\n",
    "                    s = s[list.index(i)+1:]\n",
    "                    print(s)\n",
    "                    break\n",
    "            if length>result:\n",
    "                result = length\n",
    "            if ''.join(list)==s:\n",
    "                break\n",
    "            else:\n",
    "                length = 0\n",
    "                list = []\n",
    "        return result\n",
    "\n",
    "Solution().lengthOfLongestSubstring('abcabcbb')"
   ]
  },
  {
   "cell_type": "code",
   "execution_count": 26,
   "metadata": {},
   "outputs": [
    {
     "data": {
      "text/plain": [
       "100000.5"
      ]
     },
     "execution_count": 26,
     "metadata": {},
     "output_type": "execute_result"
    }
   ],
   "source": [
    "class Solution:\n",
    "    def findMedianSortedArrays(self, nums1 , nums2):\n",
    "        m,n = len(nums1),len(nums2)\n",
    "        length = int((m+n)/2)+1\n",
    "        list = []\n",
    "        i,j = 0,0\n",
    "        while len(list)<length:\n",
    "            if m==0:\n",
    "                list.append(nums2[j])\n",
    "                j += 1 \n",
    "            \n",
    "            if n==0:\n",
    "                list.append(nums1[i])\n",
    "                i += 1\n",
    "\n",
    "            if i<m-1 and j<n-1:\n",
    "                if nums1[i]<=nums2[j]:\n",
    "                    list.append(nums1[i])\n",
    "                    i += 1\n",
    "                else:\n",
    "                    list.append(nums2[j])\n",
    "                    j += 1\n",
    "\n",
    "            if i==m-1 and j<n-1:\n",
    "                if nums1[i]<=nums2[j]:\n",
    "                    list.append(nums1[i])\n",
    "                    nums1[i] = 1001\n",
    "                else:\n",
    "                    list.append(nums2[j])\n",
    "                    j += 1\n",
    "\n",
    "            \n",
    "            if j==n-1 and i<m-1:\n",
    "                if nums1[i]<=nums2[j]:\n",
    "                    list.append(nums1[i])\n",
    "                    i += 1\n",
    "                else:\n",
    "                    list.append(nums2[j])   \n",
    "                    nums2[j] = 1001\n",
    "            \n",
    "            if j==n-1 and i==m-1:\n",
    "                if nums1[i]<=nums2[j]:\n",
    "                    list.append(nums1[i])\n",
    "                    list.append(nums2[j]) \n",
    "                else:\n",
    "                    list.append(nums2[j]) \n",
    "                    list.append(nums1[i])  \n",
    "\n",
    "        if (m+n)%2==0:\n",
    "            return (list[length-1]+list[length-2])/2\n",
    "        else:\n",
    "             return list[length-1]\n",
    "\n",
    "\n",
    "Solution().findMedianSortedArrays([100001],[100000])\n"
   ]
  },
  {
   "cell_type": "code",
   "execution_count": 37,
   "metadata": {},
   "outputs": [
    {
     "name": "stdout",
     "output_type": "stream",
     "text": [
      "0 0\n",
      "1 1\n",
      "2 2\n",
      "3 3\n"
     ]
    },
    {
     "data": {
      "text/plain": [
       "'bab'"
      ]
     },
     "execution_count": 37,
     "metadata": {},
     "output_type": "execute_result"
    }
   ],
   "source": [
    "class Solution:\n",
    "    def longestPalindrome(self, s: str) -> str:\n",
    "        huiwen_max = None\n",
    "        length_max = 0\n",
    "        len_str = len(s)\n",
    "\n",
    "        if len_str==1:\n",
    "            return s\n",
    "\n",
    "        for i in range(len_str-1):\n",
    "            cur = left = right = i\n",
    "            while True:        \n",
    "                if right+1<=len_str-1 and s[right+1]==s[cur]:\n",
    "                    right += 1\n",
    "                else:\n",
    "                    break\n",
    "            while True:\n",
    "                if left<0 or right>len_str-1:\n",
    "                    break\n",
    "                if s[left]==s[right]:\n",
    "                    left -= 1\n",
    "                    right += 1\n",
    "                else:\n",
    "                    break \n",
    "            left += 1\n",
    "            right -= 1\n",
    "            if right-left+1 > length_max:\n",
    "                length_max = right-left+1\n",
    "                huiwen_max = s[left:right+1]\n",
    "        return huiwen_max\n",
    "\n",
    "\n",
    "Solution().longestPalindrome(\"babad\")       "
   ]
  },
  {
   "cell_type": "code",
   "execution_count": 49,
   "metadata": {},
   "outputs": [
    {
     "data": {
      "text/plain": [
       "['a', 'b*', '.', '.*', '.', 'b*', 'c', 'd', '.*']"
      ]
     },
     "execution_count": 49,
     "metadata": {},
     "output_type": "execute_result"
    }
   ],
   "source": [
    "class Solution:\n",
    "    def isMatch(self, s: str, p: str) -> bool:\n",
    "        list_p = []\n",
    "        sp = 0\n",
    "        while True:\n",
    "            if sp>len(p)-1:\n",
    "                break\n",
    "            pp = p[sp]\n",
    "            sp += 1\n",
    "            if p[sp]==\"*\":\n",
    "                list_p.append(pp+p[sp])\n",
    "                sp += 1\n",
    "            else:\n",
    "                list_p.append(pp)\n",
    "        return list_p\n",
    "\n",
    "Solution().isMatch('adghghyh','ab*..*.b*cd.*')"
   ]
  }
 ],
 "metadata": {
  "kernelspec": {
   "display_name": "pytorch-gpu",
   "language": "python",
   "name": "python3"
  },
  "language_info": {
   "codemirror_mode": {
    "name": "ipython",
    "version": 3
   },
   "file_extension": ".py",
   "mimetype": "text/x-python",
   "name": "python",
   "nbconvert_exporter": "python",
   "pygments_lexer": "ipython3",
   "version": "3.11.2"
  },
  "orig_nbformat": 4
 },
 "nbformat": 4,
 "nbformat_minor": 2
}
