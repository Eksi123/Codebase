{
 "cells": [
  {
   "cell_type": "code",
   "execution_count": 9,
   "metadata": {},
   "outputs": [
    {
     "name": "stdout",
     "output_type": "stream",
     "text": [
      "第一组：\n",
      "给定的初值分别为：\n",
      "pi = 0.4600 , p = 0.5500 , q = 0.6700\n",
      "迭代得到的终值分别为：\n",
      "pi = 0.4619 , p = 0.5346 , q = 0.6561\n",
      "-----------------------------------------------\n",
      "第二组：\n",
      "给定的初值分别为：\n",
      "pi = 0.5000 , p = 0.5000 , q = 0.5000\n",
      "迭代得到的终值分别为：\n",
      "pi = 0.5000 , p = 0.6000 , q = 0.6000\n",
      "-----------------------------------------------\n",
      "第三组：\n",
      "给定的初值分别为：\n",
      "pi = 0.4000 , p = 0.6000 , q = 0.7000\n",
      "迭代得到的终值分别为：\n",
      "pi = 0.4064 , p = 0.5368 , q = 0.6432\n"
     ]
    }
   ],
   "source": [
    "# EM算法应用一：三硬币模型\n",
    "\n",
    "sample = [1,1,0,1,0,0,1,0,1,1]\n",
    "times = 100 #设定迭代参数为 100次\n",
    "mu = []\n",
    "def Three_Coin_EM(pi,p,q):\n",
    "    pi_copy = pi\n",
    "    q_copy = q\n",
    "    p_copy = p\n",
    "    for i in range(times):\n",
    "        sum_p = 0\n",
    "        sum_q = 0\n",
    "        for flap in sample:\n",
    "            if flap == 0:\n",
    "                mu.append(pi*(1-p)/(pi*(1-p)+(1-pi)*(1-q)))\n",
    "            else:\n",
    "                mu.append(pi*p/(pi*p+(1-pi)*q))\n",
    "                sum_p = sum_p + pi*p/(pi*p+(1-pi)*q)\n",
    "                sum_q = sum_q + 1 - pi*p/(pi*p+(1-pi)*q)\n",
    "        pi = sum(mu)/len(sample)\n",
    "        p = sum_p/sum(mu)\n",
    "        q = sum_q/(len(sample) - sum(mu))\n",
    "        mu.clear()\n",
    "    print(\"给定的初值分别为：\")\n",
    "    print(\"pi = {:.4f} , p = {:.4f} , q = {:.4f}\".format(pi_copy,p_copy,q_copy))\n",
    "    print(\"迭代得到的终值分别为：\")\n",
    "    print(\"pi = {:.4f} , p = {:.4f} , q = {:.4f}\".format(pi,p,q))\n",
    "    \n",
    "print(\"第一组：\")\n",
    "Three_Coin_EM(0.46,0.55,0.67)\n",
    "print(\"-----------------------------------------------\")\n",
    "print(\"第二组：\")\n",
    "Three_Coin_EM(0.5,0.5,0.5)\n",
    "print(\"-----------------------------------------------\")\n",
    "print(\"第三组：\")\n",
    "Three_Coin_EM(0.4,0.6,0.7)\n"
   ]
  },
  {
   "cell_type": "code",
   "execution_count": 15,
   "metadata": {},
   "outputs": [
    {
     "name": "stdout",
     "output_type": "stream",
     "text": [
      "迭代后参数：mu1  19.722138474992406 sigma1  8.30005159989169 alpha1  0.3423084707700928 mu2  21.56372348028983 sigma2  44.54991042473772 alpha2  0.6576915292299073\n"
     ]
    }
   ],
   "source": [
    "# EM算法应用二：高斯混合模型\n",
    "\n",
    "import numpy as np\n",
    "import time\n",
    "\n",
    "def Cal_Gaussian(Data, mu, sigma):\n",
    "    \n",
    "    GaussianP = 1 / (sigma * np.sqrt(2 * np.pi)) \\\n",
    "                * np.exp(-1 * np.square(Data - mu) / (2 * np.square(sigma)))\n",
    "    \n",
    "    return GaussianP\n",
    "\n",
    "def E_step(Data, mu1, sigma1, alpha1, mu2, sigma2, alpha2):\n",
    "    \n",
    "    # 计算分模型对每个样本的响应度\n",
    "    # 这里Data使用的是ndarray格式\n",
    "    # 因此得到的数列结果中，包含该分模型对每个样本的计算响应度公式的分子项\n",
    "    Gamma1 = alpha1 * Cal_Gaussian(Data, mu1, sigma1)\n",
    "    Gamma2 = alpha2 * Cal_Gaussian(Data, mu2, sigma2)\n",
    "    \n",
    "    # 计算响应度公式的分母项\n",
    "    Summary = Gamma1 + Gamma2\n",
    "\n",
    "    # 计算响应度\n",
    "    Gamma1 = Gamma1 / Summary\n",
    "    Gamma2 = Gamma2 / Summary\n",
    "    \n",
    "    return Gamma1, Gamma2 \n",
    "\n",
    "def M_step(Data, mu1_old, mu2_old, Gamma1, Gamma2):\n",
    "    \n",
    "    # 计算新的参数mu\n",
    "    mu1_new = np.dot(Gamma1, Data) / np.sum(Gamma1)\n",
    "    mu2_new = np.dot(Gamma2, Data) / np.sum(Gamma2)\n",
    "    \n",
    "    # 计算新的参数sigma\n",
    "    sigma1_new = np.sqrt(np.dot(Gamma1, np.square(Data - mu1_old)) / np.sum(Gamma1))\n",
    "    sigma2_new = np.sqrt(np.dot(Gamma2, np.square(Data - mu2_old)) / np.sum(Gamma2))\n",
    "    \n",
    "    # 计算新的参数alpha\n",
    "    m = len(Data)\n",
    "    alpha1_new = np.sum(Gamma1) / m\n",
    "    alpha2_new = np.sum(Gamma2) / m\n",
    "    \n",
    "    return mu1_new, sigma1_new, alpha1_new, mu2_new, sigma2_new, alpha2_new\n",
    "\n",
    "def EM(Data, mu1, sigma1, alpha1, mu2, sigma2, alpha2, itertime):\n",
    "    \n",
    "    # 迭代\n",
    "    for i in range(itertime):\n",
    "        \n",
    "        # 计算响应度，E步\n",
    "        Gamma1, Gamma2 = E_step(Data, mu1, sigma1, alpha1, mu2, sigma2, alpha2)\n",
    "    \n",
    "        # 更新参数，M步\n",
    "        mu1, sigma1, alpha1, mu2, sigma2, alpha2 \\\n",
    "        = M_step(Data, mu1, mu2, Gamma1, Gamma2)\n",
    "    \n",
    "    print('迭代后参数：mu1 ', mu1, 'sigma1 ', sigma1, 'alpha1 ', alpha1, 'mu2 ', mu2, 'sigma2 ', sigma2, 'alpha2 ', alpha2)\n",
    "\n",
    "Data = np.array([-67,-48,6,8,14,16,23,24,28,29,41,49,56,60,75]) # 输入数据\n",
    "init_mu1 = 0; init_sigma1 = 10; init_alpha1 = 0.6; init_mu2 = 30; init_sigma2 = 20; init_alpha2 = 0.4; itertime = 100 # 初始化参数\n",
    "EM(Data, init_mu1, init_sigma1, init_alpha1, init_mu2, init_sigma2, init_alpha2, itertime)"
   ]
  }
 ],
 "metadata": {
  "kernelspec": {
   "display_name": "Python 3",
   "language": "python",
   "name": "python3"
  },
  "language_info": {
   "codemirror_mode": {
    "name": "ipython",
    "version": 3
   },
   "file_extension": ".py",
   "mimetype": "text/x-python",
   "name": "python",
   "nbconvert_exporter": "python",
   "pygments_lexer": "ipython3",
   "version": "3.10.2 (tags/v3.10.2:a58ebcc, Jan 17 2022, 14:12:15) [MSC v.1929 64 bit (AMD64)]"
  },
  "orig_nbformat": 4,
  "vscode": {
   "interpreter": {
    "hash": "021b317143e511e732ba53f54e497c44510074ac37ceeffeebcba18fe99572cd"
   }
  }
 },
 "nbformat": 4,
 "nbformat_minor": 2
}
