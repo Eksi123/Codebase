{
 "cells": [
  {
   "cell_type": "markdown",
   "id": "ee2de514",
   "metadata": {
    "papermill": {
     "duration": 0.004474,
     "end_time": "2022-10-15T13:43:21.069150",
     "exception": false,
     "start_time": "2022-10-15T13:43:21.064676",
     "status": "completed"
    },
    "tags": []
   },
   "source": [
    "**Boston House Price Prediction**\n",
    "\n",
    "There are total 80 input variables used to predict the output \"SalePrice\"! More unfortunately, I can barely identify the all details of those inputs so that I must take the quantitative methods to do feature selections. \n",
    "\n",
    "The whole of machine learning obtains two steps, one is data-processing and the another one is model-building. In general, 70% time and effort will be taken by the former.\n"
   ]
  },
  {
   "cell_type": "code",
   "execution_count": 1,
   "id": "f49c5edd",
   "metadata": {
    "_cell_guid": "b1076dfc-b9ad-4769-8c92-a6c4dae69d19",
    "_uuid": "8f2839f25d086af736a60e9eeb907d3b93b6e0e5",
    "execution": {
     "iopub.execute_input": "2022-10-15T13:43:21.076979Z",
     "iopub.status.busy": "2022-10-15T13:43:21.076513Z",
     "iopub.status.idle": "2022-10-15T13:43:22.462839Z",
     "shell.execute_reply": "2022-10-15T13:43:22.461610Z"
    },
    "papermill": {
     "duration": 1.394003,
     "end_time": "2022-10-15T13:43:22.466231",
     "exception": false,
     "start_time": "2022-10-15T13:43:21.072228",
     "status": "completed"
    },
    "tags": []
   },
   "outputs": [],
   "source": [
    "# # Basical API\n",
    "import numpy as np \n",
    "import pandas as pd \n",
    "import matplotlib.pyplot as plt\n",
    "import math\n",
    "\n",
    "# Sklearn support\n",
    "from sklearn import preprocessing # dataset preprocess\n",
    "from sklearn.feature_selection import SelectKBest,mutual_info_regression # feature selection\n",
    "from sklearn.model_selection import StratifiedKFold # k fold cross-validation\n",
    "from sklearn.model_selection import cross_val_score \n",
    "from sklearn.linear_model import LinearRegression # Linear\n",
    "from sklearn.linear_model import Ridge # Ridge\n",
    "from sklearn.linear_model import Lasso # Lasso\n",
    "from sklearn.svm import SVR # SVR\n",
    "from sklearn.neighbors import KNeighborsRegressor # KNR\n",
    "from sklearn.ensemble import RandomForestRegressor # RFR\n",
    "\n",
    "# Import \"Boston House Price\" datasets\n",
    "train_df = pd.read_csv('../input/house-prices-advanced-regression-techniques/train.csv')\n",
    "pred_df = pd.read_csv('../input/house-prices-advanced-regression-techniques/test.csv')"
   ]
  },
  {
   "cell_type": "code",
   "execution_count": 2,
   "id": "a457f95b",
   "metadata": {
    "execution": {
     "iopub.execute_input": "2022-10-15T13:43:22.473868Z",
     "iopub.status.busy": "2022-10-15T13:43:22.473446Z",
     "iopub.status.idle": "2022-10-15T13:43:22.594011Z",
     "shell.execute_reply": "2022-10-15T13:43:22.592796Z"
    },
    "papermill": {
     "duration": 0.128228,
     "end_time": "2022-10-15T13:43:22.597675",
     "exception": false,
     "start_time": "2022-10-15T13:43:22.469447",
     "status": "completed"
    },
    "tags": []
   },
   "outputs": [
    {
     "name": "stdout",
     "output_type": "stream",
     "text": [
      "missing values of train_df:\n",
      " LotFrontage     0.177397\n",
      "Alley           0.937671\n",
      "MasVnrType      0.005479\n",
      "MasVnrArea      0.005479\n",
      "BsmtQual        0.025342\n",
      "BsmtCond        0.025342\n",
      "BsmtExposure    0.026027\n",
      "BsmtFinType1    0.025342\n",
      "BsmtFinType2    0.026027\n",
      "Electrical      0.000685\n",
      "FireplaceQu     0.472603\n",
      "GarageType      0.055479\n",
      "GarageYrBlt     0.055479\n",
      "GarageFinish    0.055479\n",
      "GarageQual      0.055479\n",
      "GarageCond      0.055479\n",
      "PoolQC          0.995205\n",
      "Fence           0.807534\n",
      "MiscFeature     0.963014\n",
      "dtype: float64 \n",
      "\n",
      "missing values of pred_df:\n",
      " MSZoning        0.002742\n",
      "LotFrontage     0.155586\n",
      "Alley           0.926662\n",
      "Utilities       0.001371\n",
      "Exterior1st     0.000685\n",
      "Exterior2nd     0.000685\n",
      "MasVnrType      0.010966\n",
      "MasVnrArea      0.010281\n",
      "BsmtQual        0.030158\n",
      "BsmtCond        0.030843\n",
      "BsmtExposure    0.030158\n",
      "BsmtFinType1    0.028787\n",
      "BsmtFinSF1      0.000685\n",
      "BsmtFinType2    0.028787\n",
      "BsmtFinSF2      0.000685\n",
      "BsmtUnfSF       0.000685\n",
      "TotalBsmtSF     0.000685\n",
      "BsmtFullBath    0.001371\n",
      "BsmtHalfBath    0.001371\n",
      "KitchenQual     0.000685\n",
      "Functional      0.001371\n",
      "FireplaceQu     0.500343\n",
      "GarageType      0.052090\n",
      "GarageYrBlt     0.053461\n",
      "GarageFinish    0.053461\n",
      "GarageCars      0.000685\n",
      "GarageArea      0.000685\n",
      "GarageQual      0.053461\n",
      "GarageCond      0.053461\n",
      "PoolQC          0.997944\n",
      "Fence           0.801234\n",
      "MiscFeature     0.965045\n",
      "SaleType        0.000685\n",
      "dtype: float64 \n",
      "\n"
     ]
    }
   ],
   "source": [
    "# Missing Values\n",
    "\"\"\"\n",
    "In train_df and pred_df, the features \"Alley\",\"FireplaceQu\",\"PoolQC\",\"Fence\",\"MiscFeature\" \n",
    "perform so terrible in missing values problems that we need to drop them in both train_df and pred_df. \n",
    "Besides, the featuer \"ID\" is meaningless and useless. For other featuers with missing values, we can fill them by some methods.\n",
    "\"\"\"\n",
    "\n",
    "missing_train = train_df.isnull().sum()[train_df.isnull().sum()>0]\n",
    "print(\"missing values of train_df:\"+\"\\n\",missing_train/train_df.shape[0],\"\\n\")\n",
    "\n",
    "missing_pred = pred_df.isnull().sum()[pred_df.isnull().sum()>0]\n",
    "print(\"missing values of pred_df:\"+\"\\n\",missing_pred/pred_df.shape[0],\"\\n\")\n",
    "\n",
    "# drop features\n",
    "train_df = train_df.drop(columns = ['Id', 'PoolQC', 'MiscFeature', 'Alley', 'Fence', 'FireplaceQu'])\n",
    "pred_df = pred_df.drop(columns = ['Id', 'PoolQC', 'MiscFeature', 'Alley', 'Fence', 'FireplaceQu'])\n",
    "\n",
    "# fill features\n",
    "length = train_df.shape[1]\n",
    "for i in range(length-1):\n",
    "    if train_df.iloc[:,i].isnull().sum()>0:\n",
    "        if train_df.iloc[:,i].dtype==\"object\":\n",
    "            train_df.iloc[:,i] = train_df.iloc[:,i].fillna(train_df.iloc[:,i].mode()[0])\n",
    "        else:\n",
    "            train_df.iloc[:,i] = train_df.iloc[:,i].fillna(train_df.iloc[:,i].mean())\n",
    "    \n",
    "    if pred_df.iloc[:,i].isnull().sum()>0:\n",
    "        if pred_df.iloc[:,i].dtype==\"object\":\n",
    "            pred_df.iloc[:,i] = pred_df.iloc[:,i].fillna(pred_df.iloc[:,i].mode()[0])\n",
    "        else:\n",
    "            pred_df.iloc[:,i] = pred_df.iloc[:,i].fillna(pred_df.iloc[:,i].mean())\n"
   ]
  },
  {
   "cell_type": "code",
   "execution_count": 3,
   "id": "512b42ce",
   "metadata": {
    "execution": {
     "iopub.execute_input": "2022-10-15T13:43:22.605682Z",
     "iopub.status.busy": "2022-10-15T13:43:22.605293Z",
     "iopub.status.idle": "2022-10-15T13:43:24.947027Z",
     "shell.execute_reply": "2022-10-15T13:43:24.945944Z"
    },
    "papermill": {
     "duration": 2.348582,
     "end_time": "2022-10-15T13:43:24.949543",
     "exception": false,
     "start_time": "2022-10-15T13:43:22.600961",
     "status": "completed"
    },
    "tags": []
   },
   "outputs": [],
   "source": [
    "# Categories Encoding\n",
    "\"\"\"\n",
    "1 Target Encoding recodes categorical features by computing the probability of different categories or types resoectively.\n",
    "\n",
    "2 Buiding the model of target encoding based on train_df, and then using it to transform test_df or pred_df, \n",
    "which requests same distribution or structure of train_df and pred_df.\n",
    "\"\"\"\n",
    "num_features = [] # numerical features\n",
    "cat_features = [] # categorical features\n",
    "columns = train_df.columns[:-1] # feature names except \"SalePrice\"\n",
    "for col in columns:\n",
    "    if train_df[col].dtype == \"object\":\n",
    "        cat_features.append(col)\n",
    "    else:\n",
    "        num_features.append(col)\n",
    "\n",
    "def target_encoding(target_feature):\n",
    "    if len(cat_features) == 0:\n",
    "        return 'All features are encoded'\n",
    "    target_std = train_df[target_feature].std()\n",
    "    for f in cat_features:\n",
    "        train_df[f] = train_df.groupby(f)[target_feature].transform('mean')\n",
    "        pred_df[f] = pred_df.groupby(f)[target_feature].transform('mean')\n",
    "            \n",
    "for f in num_features:\n",
    "    target_encoding(f)"
   ]
  },
  {
   "cell_type": "code",
   "execution_count": 4,
   "id": "c0b79685",
   "metadata": {
    "execution": {
     "iopub.execute_input": "2022-10-15T13:43:24.957174Z",
     "iopub.status.busy": "2022-10-15T13:43:24.956754Z",
     "iopub.status.idle": "2022-10-15T13:43:25.057287Z",
     "shell.execute_reply": "2022-10-15T13:43:25.056274Z"
    },
    "papermill": {
     "duration": 0.107189,
     "end_time": "2022-10-15T13:43:25.059881",
     "exception": false,
     "start_time": "2022-10-15T13:43:24.952692",
     "status": "completed"
    },
    "tags": []
   },
   "outputs": [],
   "source": [
    "# Standardization\n",
    "std_scale = preprocessing.StandardScaler()\n",
    "columns = train_df.columns[:-1]\n",
    "for col in columns:\n",
    "    train_df[col] = std_scale.fit_transform(train_df[col].values.reshape(-1,1))\n",
    "    pred_df[col] = std_scale.fit_transform(pred_df[col].values.reshape(-1,1))"
   ]
  },
  {
   "cell_type": "code",
   "execution_count": 5,
   "id": "7def574a",
   "metadata": {
    "execution": {
     "iopub.execute_input": "2022-10-15T13:43:25.068158Z",
     "iopub.status.busy": "2022-10-15T13:43:25.067100Z",
     "iopub.status.idle": "2022-10-15T13:43:25.713254Z",
     "shell.execute_reply": "2022-10-15T13:43:25.712128Z"
    },
    "papermill": {
     "duration": 0.652652,
     "end_time": "2022-10-15T13:43:25.715707",
     "exception": false,
     "start_time": "2022-10-15T13:43:25.063055",
     "status": "completed"
    },
    "tags": []
   },
   "outputs": [],
   "source": [
    "# Features Selection By \"mutual_info_regression\"\n",
    "X_df = train_df.iloc[:,:-1] # input X\n",
    "Y_df = train_df.iloc[:,-1] # output Y\n",
    "skb = SelectKBest(mutual_info_regression,k=30).fit(X_df,Y_df) # save 30 features with better performance\n",
    "Index = skb.get_support(indices=True)\n",
    "train_df = train_df.iloc[:,np.append(Index,train_df.shape[1]-1)]\n",
    "pred_df = pred_df.iloc[:,Index]"
   ]
  },
  {
   "cell_type": "code",
   "execution_count": 6,
   "id": "e0aeac1b",
   "metadata": {
    "execution": {
     "iopub.execute_input": "2022-10-15T13:43:25.723778Z",
     "iopub.status.busy": "2022-10-15T13:43:25.723388Z",
     "iopub.status.idle": "2022-10-15T13:43:41.293764Z",
     "shell.execute_reply": "2022-10-15T13:43:41.292757Z"
    },
    "papermill": {
     "duration": 15.577501,
     "end_time": "2022-10-15T13:43:41.296473",
     "exception": false,
     "start_time": "2022-10-15T13:43:25.718972",
     "status": "completed"
    },
    "tags": []
   },
   "outputs": [
    {
     "name": "stderr",
     "output_type": "stream",
     "text": [
      "/opt/conda/lib/python3.7/site-packages/sklearn/model_selection/_split.py:680: UserWarning: The least populated class in y has only 1 members, which is less than n_splits=10.\n",
      "  UserWarning,\n",
      "/opt/conda/lib/python3.7/site-packages/sklearn/model_selection/_split.py:680: UserWarning: The least populated class in y has only 1 members, which is less than n_splits=10.\n",
      "  UserWarning,\n",
      "/opt/conda/lib/python3.7/site-packages/sklearn/model_selection/_split.py:680: UserWarning: The least populated class in y has only 1 members, which is less than n_splits=10.\n",
      "  UserWarning,\n",
      "/opt/conda/lib/python3.7/site-packages/sklearn/linear_model/_coordinate_descent.py:648: ConvergenceWarning: Objective did not converge. You might want to increase the number of iterations, check the scale of the features or consider increasing regularisation. Duality gap: 2.372e+09, tolerance: 7.973e+08\n",
      "  coef_, l1_reg, l2_reg, X, y, max_iter, tol, rng, random, positive\n",
      "/opt/conda/lib/python3.7/site-packages/sklearn/model_selection/_split.py:680: UserWarning: The least populated class in y has only 1 members, which is less than n_splits=10.\n",
      "  UserWarning,\n",
      "/opt/conda/lib/python3.7/site-packages/sklearn/model_selection/_split.py:680: UserWarning: The least populated class in y has only 1 members, which is less than n_splits=10.\n",
      "  UserWarning,\n",
      "/opt/conda/lib/python3.7/site-packages/sklearn/model_selection/_split.py:680: UserWarning: The least populated class in y has only 1 members, which is less than n_splits=10.\n",
      "  UserWarning,\n"
     ]
    },
    {
     "name": "stdout",
     "output_type": "stream",
     "text": [
      "RMSE for models:\n",
      "LinearRegression: 34818.53\n",
      "Ridge: 34802.69\n",
      "Lasso: 34815.95\n",
      "SVR: 80963.78\n",
      "KNeighborsRegression: 34883.23\n",
      "RandomForestRegression: 27859.19\n",
      "\n"
     ]
    }
   ],
   "source": [
    "# Models Building and Selection\n",
    "Model = [LinearRegression(), Ridge(), Lasso(), SVR(), KNeighborsRegressor(), RandomForestRegressor()]\n",
    "RMSE = []\n",
    "X_df = train_df.iloc[:,:-1] # dataset of features \n",
    "Y_df = train_df.iloc[:,-1] # dataset of label \n",
    "\n",
    "for model in Model:\n",
    "    kfold = StratifiedKFold(n_splits = 10, random_state = 1, shuffle=True)\n",
    "    mse_results = cross_val_score(model, X_df, Y_df, cv = kfold, scoring = 'neg_mean_squared_error')\n",
    "    rmse = np.sqrt(-mse_results)\n",
    "    RMSE.append(round(rmse.mean(),2))\n",
    "\n",
    "print(\"RMSE for models:\"+\"\\n\"+  \n",
    "\"LinearRegression: \"+str(RMSE[0])+\"\\n\"+\n",
    "\"Ridge: \"+str(RMSE[1])+\"\\n\"+\n",
    "\"Lasso: \"+str(RMSE[2])+\"\\n\"+\n",
    "\"SVR: \"+str(RMSE[3])+\"\\n\"+\n",
    "\"KNeighborsRegression: \"+str(RMSE[4])+\"\\n\"+\n",
    "\"RandomForestRegression: \"+str(RMSE[5])+\"\\n\"\n",
    ")"
   ]
  },
  {
   "cell_type": "markdown",
   "id": "ab59a8f1",
   "metadata": {
    "papermill": {
     "duration": 0.00317,
     "end_time": "2022-10-15T13:43:41.304102",
     "exception": false,
     "start_time": "2022-10-15T13:43:41.300932",
     "status": "completed"
    },
    "tags": []
   },
   "source": [
    "RMSE for models:\n",
    "\n",
    "LinearRegression: 34668.13\n",
    "\n",
    "Ridge: 34651.71\n",
    "\n",
    "Lasso: 34665.2\n",
    "\n",
    "SVR: 80963.91\n",
    "\n",
    "KNeighborsRegression: 35698.96\n",
    "\n",
    "RandomForestRegression: 28343.31"
   ]
  },
  {
   "cell_type": "code",
   "execution_count": 7,
   "id": "539c1dd1",
   "metadata": {
    "execution": {
     "iopub.execute_input": "2022-10-15T13:43:41.312479Z",
     "iopub.status.busy": "2022-10-15T13:43:41.312110Z",
     "iopub.status.idle": "2022-10-15T13:43:42.771104Z",
     "shell.execute_reply": "2022-10-15T13:43:42.769676Z"
    },
    "papermill": {
     "duration": 1.466771,
     "end_time": "2022-10-15T13:43:42.774222",
     "exception": false,
     "start_time": "2022-10-15T13:43:41.307451",
     "status": "completed"
    },
    "tags": []
   },
   "outputs": [
    {
     "name": "stdout",
     "output_type": "stream",
     "text": [
      "[132161.58 161813.5  177714.27 ... 167702.   117433.87 230111.3 ]\n"
     ]
    }
   ],
   "source": [
    "# Prediction\n",
    "RFR = RandomForestRegressor().fit(X_df, Y_df)\n",
    "pred_y = RFR.predict(pred_df)\n",
    "\n",
    "print(pred_y)\n",
    "\n",
    "df = pd.read_csv('../input/house-prices-advanced-regression-techniques/test.csv')\n",
    "submission = pd.DataFrame({\n",
    "        \"Id\": df[\"Id\"],\n",
    "        \"SalePrice\": pred_y\n",
    "    })\n",
    "submission.to_csv('./submission.csv', index=False)"
   ]
  }
 ],
 "metadata": {
  "kernelspec": {
   "display_name": "Python 3",
   "language": "python",
   "name": "python3"
  },
  "language_info": {
   "codemirror_mode": {
    "name": "ipython",
    "version": 3
   },
   "file_extension": ".py",
   "mimetype": "text/x-python",
   "name": "python",
   "nbconvert_exporter": "python",
   "pygments_lexer": "ipython3",
   "version": "3.7.12"
  },
  "papermill": {
   "default_parameters": {},
   "duration": 31.06199,
   "end_time": "2022-10-15T13:43:43.498760",
   "environment_variables": {},
   "exception": null,
   "input_path": "__notebook__.ipynb",
   "output_path": "__notebook__.ipynb",
   "parameters": {},
   "start_time": "2022-10-15T13:43:12.436770",
   "version": "2.3.4"
  }
 },
 "nbformat": 4,
 "nbformat_minor": 5
}
