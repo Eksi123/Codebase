{
 "cells": [
  {
   "cell_type": "code",
   "execution_count": 1,
   "metadata": {
    "collapsed": true
   },
   "outputs": [],
   "source": [
    "import folium\n",
    "\n",
    "def draw_lines(locations,color): # 画轨迹线\n",
    "    \"\"\"\n",
    "    绘制gps轨迹图\n",
    "    :param locations: list, 需要绘制轨迹的经纬度信息，格式为[[lat1, lon1], [lat2, lon2], ...]\n",
    "    :param output_path: str, 轨迹图保存路径\n",
    "    :param file_name: str, 轨迹图保存文件名\n",
    "    :return: None\n",
    "    \"\"\"\n",
    "    map = folium.Map(location=locations[0], zoom_start=15, attr='default',tiles=\"http://webrd02.is.autonavi.com/appmaptile?lang=zh_cn&size=1&scale=1&style=7&x={x}&y={y}&z={z}\")  # 设置高德底图)  # 绘图中心区域的确定\n",
    "    # tiles='http://map.geoq.cn/ArcGIS/rest/services/ChinaOnlineCommunity/MapServer/tile/{z}/{y}/{x}' 智能Q图\n",
    "    # tiles =  'https://rt0.map.gtimg.com/tile?z={z}&x={x}&y={-y}' 腾讯地图\n",
    "    # tiles=\"http://webrd02.is.autonavi.com/appmaptile?lang=zh_cn&size=1&scale=1&style=7&x={x}&y={y}&z={z}\" 高德地图\n",
    "\n",
    "    folium.PolyLine(  # polyline方法为将坐标用线段形式连接起来\n",
    "        locations,  # 坐标点序列\n",
    "        weight=3,  # 线的粗细度为3\n",
    "        color=color,  # 线的颜色为红色\n",
    "        opacity=0.7  # 线的透明度\n",
    "    ).add_to(map)  # 把轨迹线添加到刚才的区域map内\n",
    "\n",
    "    # 添加起始点和终点\n",
    "    folium.Marker(location = locations[0], popup=\"起点\").add_to(map) # 把起始点添加到map里\n",
    "    folium.Marker(location = locations[-1], popup=\"终点\").add_to(map) # 把终点添加到map里\n",
    "\n",
    "    map.save(\"Maps/轨迹.HTML\")  # 将结果以HTML形式保存到默认路径\n",
    "\n",
    "\n",
    "def draw_points(locations): # 画坐标点\n",
    "    from folium.plugins import MarkerCluster\n",
    "    map = folium.Map(location=locations[0], zoom_start=15,attr='default', tiles=\"http://webrd02.is.autonavi.com/appmaptile?lang=zh_cn&size=1&scale=1&style=7&x={x}&y={y}&z={z}\")\n",
    "    marker_cluster =MarkerCluster().add_to(map) # 坐标点的自动聚合（这个功能厉害了）\n",
    "\n",
    "    point_num = len(locations)\n",
    "    for i in range(point_num):\n",
    "        folium.Marker(\n",
    "            location = locations[i], # 添加单个坐标点\n",
    "            popup=folium.Popup(\"地点\", max_width=10), # 坐标点标记（将文字横向显示）\n",
    "            # tooltip=\"地点\" 无需点击，只要鼠标滑动到坐标点上即显示标志\n",
    "            icon=folium.Icon(color=\"red\") # 修改标记点颜色\n",
    "        ).add_to(marker_cluster)\n",
    "\n",
    "    map.save(\"Maps/点.HTML\")\n",
    "    \n"
   ]
  },
  {
   "cell_type": "code",
   "execution_count": 2,
   "metadata": {
    "collapsed": false
   },
   "outputs": [],
   "source": [
    "A= [[39,122.5],\n",
    "[39,122.6],\n",
    "[39,122.7],\n",
    "[39,122.8],\n",
    "[39,122.9],\n",
    "[39,123]]\n",
    "\n",
    "# 画轨迹\n",
    "draw_lines(A,\"orange\")\n"
   ]
  }
 ],
 "metadata": {
  "kernelspec": {
   "display_name": "pytorch",
   "language": "python",
   "name": "python3"
  },
  "language_info": {
   "codemirror_mode": {
    "name": "ipython",
    "version": 3
   },
   "file_extension": ".py",
   "mimetype": "text/x-python",
   "name": "python",
   "nbconvert_exporter": "python",
   "pygments_lexer": "ipython3",
   "version": "3.9.15 (main, Nov 24 2022, 14:39:17) [MSC v.1916 64 bit (AMD64)]"
  },
  "vscode": {
   "interpreter": {
    "hash": "5b5292cc5f82d8561d05c044f8ed41e8f78352f5ad17a4513f2686858f295381"
   }
  }
 },
 "nbformat": 4,
 "nbformat_minor": 0
}
