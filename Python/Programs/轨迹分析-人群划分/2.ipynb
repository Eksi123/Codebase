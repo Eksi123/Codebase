{
 "cells": [
  {
   "cell_type": "code",
   "execution_count": 7,
   "metadata": {},
   "outputs": [],
   "source": [
    "import pandas as pd\n",
    "import folium\n",
    "import requests\n",
    "import ast\n",
    "import time\n",
    "%run Tools.py\n",
    "from math import cos, sin, atan2, sqrt, radians, degrees\n",
    "\n",
    "def center_geolocation(geolocations): # 求多个坐标点的中心\n",
    "    \"\"\"\n",
    "    输入多个经纬度坐标，找出中心点\n",
    "    :param geolocations: 集合\n",
    "    :return:\n",
    "    \"\"\"\n",
    "    x = 0\n",
    "    y = 0\n",
    "    z = 0\n",
    "    length = len(geolocations)\n",
    "    for lat, lon in geolocations:\n",
    "        lon = radians(float(lon))\n",
    "        lat = radians(float(lat))\n",
    "        x += cos(lat) * cos(lon)\n",
    "        y += cos(lat) * sin(lon)\n",
    "        z += sin(lat)\n",
    "\n",
    "    x = float(x / length)\n",
    "    y = float(y / length)\n",
    "    z = float(z / length)\n",
    "\n",
    "    return (degrees(atan2(z, sqrt(x * x + y * y)))), degrees(atan2(y, x))\n",
    "\n",
    "def center_trajectory(sub_trajectorys): # 求多条轨迹的中心\n",
    "    \"\"\"\n",
    "    输入多条子轨迹，找出中心轨迹\n",
    "    :param sub_trajectorys: 列表\n",
    "    :return:\n",
    "    \"\"\"\n",
    "\n",
    "    CenTra = [] # 中心轨迹\n",
    "\n",
    "    Len = [] # 同一类内所有子轨迹长度\n",
    "    for i in range(len(sub_trajectorys)):\n",
    "        Len.append(len(sub_trajectorys[i]))\n",
    "    max_length = max(Len) # 最大子轨迹长度\n",
    "\n",
    "    for j in range(max_length):\n",
    "        geolocations = []\n",
    "        for i in range(len(sub_trajectorys)):\n",
    "            if len(sub_trajectorys[i])-1>=j:\n",
    "                geolocations.append(sub_trajectorys[i][j])\n",
    "        CenTra.append(center_geolocation(tuple(geolocations)))\n",
    "\n",
    "    return CenTra\n",
    "\n",
    "def georequest2(vin, geolocations): # 返回中心轨迹路段信息\n",
    "\n",
    "    f = open('Address/trajectory/'+str(vin)+'.txt', 'a')\n",
    "    Street = {} # 保存中心轨迹上所有轨迹点路段信息\n",
    "    for i in range(len(geolocations)):\n",
    "        # 接口请求地址\n",
    "        url = \"https://apis.map.qq.com/ws/geocoder/v1/\"\n",
    "        # 请求头\n",
    "        headers = {\n",
    "            \"content-type\": \"application/json\"\n",
    "        }\n",
    "        # 键值队\n",
    "        payload = {\n",
    "            \"key\": \"FB4BZ-FA6L3-L4H3N-3LD53-FGZZO-YSBE3\",\n",
    "            \"location\": str(geolocations[i][0])+','+str(geolocations[i][1])\n",
    "        }\n",
    "        # 构造发送请求\n",
    "        response = requests.get(url=url, headers=headers, params=payload)\n",
    "        dict = ast.literal_eval(response.text)\n",
    "        print(dict)\n",
    "        f.writelines(str(dict[\"result\"][\"location\"])+\"\\n\") # 打印轨迹上各点坐标信息\n",
    "        Street[dict[\"result\"][\"address_component\"][\"street\"]] = Street.get(dict[\"result\"][\"address_component\"][\"street\"],0)+1\n",
    "    \n",
    "    # 返回出现次数最多的路段信息\n",
    "    max_time = 0\n",
    "    street = None\n",
    "    print(Street)\n",
    "    for k in Street:\n",
    "        if Street[k] >= max_time:\n",
    "            max_time = Street[k]\n",
    "            street = k\n",
    "\n",
    "    # 打印路段信息\n",
    "    f.writelines(str(street)+\"\\n\")\n",
    "    f.close()"
   ]
  },
  {
   "cell_type": "code",
   "execution_count": 2,
   "metadata": {},
   "outputs": [
    {
     "data": {
      "text/plain": [
       "'\\n这一块的Sub_Tra_Geo和Sub_Trajectory的写法应该可以简化，有点乱\\n'"
      ]
     },
     "execution_count": 2,
     "metadata": {},
     "output_type": "execute_result"
    }
   ],
   "source": [
    "df = pd.read_csv(\"SubTrajectory/wqmbpgahavumbbcba.csv\",header=0)\n",
    "\n",
    "Sub_Trajectory = [df[df[\"trajectory_name\"]==0].reset_index(inplace=False,drop=True)] # 保存车主的全部子轨迹\n",
    "Sub_Tra_Geo = [[]] # 用来保存各段子轨迹的经纬度坐标（只能保存一个车主的）\n",
    "flag = 0 # 子轨迹名称\n",
    "length = df.shape[0]\n",
    "for i in range(length):\n",
    "    if df[\"trajectory_name\"][i]==flag:\n",
    "        Sub_Tra_Geo[len(Sub_Tra_Geo)-1].append([df[\"latitude\"][i],df[\"longitude\"][i]])\n",
    "    else:\n",
    "        flag = flag+1\n",
    "        Sub_Trajectory.append(df[df[\"trajectory_name\"]==flag].reset_index(inplace=False,drop=True))\n",
    "        Sub_Tra_Geo.append([[df[\"latitude\"][i],df[\"longitude\"][i]]])\n",
    "\n",
    "result = DBSCAN_trajectory(Sub_Trajectory,0.02,5)  \n",
    "\"\"\"\n",
    "这一块的Sub_Tra_Geo和Sub_Trajectory的写法应该可以简化，有点乱\n",
    "\"\"\""
   ]
  },
  {
   "cell_type": "code",
   "execution_count": 8,
   "metadata": {},
   "outputs": [
    {
     "name": "stdout",
     "output_type": "stream",
     "text": [
      "[(41.69406373203524, 123.43997407760091), (41.69367959260376, 123.43978160785767), (41.69479846146359, 123.4397037899156)]\n",
      "{'status': 0, 'message': 'query ok', 'request_id': '4ba1789c-9a4f-4599-a0dc-bbb3fa158a16', 'result': {'location': {'lat': 41.694064, 'lng': 123.439974}, 'address': '辽宁省沈阳市浑南区白塔三街', 'formatted_addresses': {'recommend': '浑南区理想新城(白塔三街东150米)', 'rough': '浑南区理想新城(白塔三街东150米)'}, 'address_component': {'nation': '中国', 'province': '辽宁省', 'city': '沈阳市', 'district': '浑南区', 'street': '白塔三街', 'street_number': '白塔三街'}, 'ad_info': {'nation_code': '156', 'adcode': '210112', 'city_code': '156210100', 'name': '中国,辽宁省,沈阳市,浑南区', 'location': {'lat': 41.714729, 'lng': 123.449597}, 'nation': '中国', 'province': '辽宁省', 'city': '沈阳市', 'district': '浑南区'}, 'address_reference': {'street_number': {'id': '', 'title': '', 'location': {'lat': 41.690243, 'lng': 123.437805}, '_distance': 170.4, '_dir_desc': '东'}, 'crossroad': {'id': '72777145', 'title': '白塔河路/白塔三街(路口)', 'location': {'lat': 41.69634, 'lng': 123.43788}, '_distance': 301.6, '_dir_desc': '东南'}, 'town': {'id': '210112008', 'title': '白塔街道', 'location': {'lat': 41.6793, 'lng': 123.425964}, '_distance': 0, '_dir_desc': '内'}, 'street': {'id': '12699360716166484392', 'title': '白塔三街', 'location': {'lat': 41.690243, 'lng': 123.437805}, '_distance': 170.4, '_dir_desc': '东'}, 'landmark_l2': {'id': '6258318964501677083', 'title': '理想新城', 'location': {'lat': 41.693481, 'lng': 123.438163}, '_distance': 0, '_dir_desc': '内'}}}}\n",
      "{'status': 0, 'message': 'query ok', 'request_id': 'bda8c425-bd94-45a5-9d71-9d611ff2d70b', 'result': {'location': {'lat': 41.69368, 'lng': 123.439782}, 'address': '辽宁省沈阳市浑南区白塔三街', 'formatted_addresses': {'recommend': '浑南区理想新城(白塔三街东150米)', 'rough': '浑南区理想新城(白塔三街东150米)'}, 'address_component': {'nation': '中国', 'province': '辽宁省', 'city': '沈阳市', 'district': '浑南区', 'street': '白塔三街', 'street_number': '白塔三街'}, 'ad_info': {'nation_code': '156', 'adcode': '210112', 'city_code': '156210100', 'name': '中国,辽宁省,沈阳市,浑南区', 'location': {'lat': 41.714729, 'lng': 123.449597}, 'nation': '中国', 'province': '辽宁省', 'city': '沈阳市', 'district': '浑南区'}, 'address_reference': {'street_number': {'id': '', 'title': '', 'location': {'lat': 41.690243, 'lng': 123.437805}, '_distance': 154.5, '_dir_desc': '东'}, 'crossroad': {'id': '72777145', 'title': '白塔河路/白塔三街(路口)', 'location': {'lat': 41.69634, 'lng': 123.43788}, '_distance': 329.8, '_dir_desc': '东南'}, 'town': {'id': '210112008', 'title': '白塔街道', 'location': {'lat': 41.6793, 'lng': 123.425964}, '_distance': 0, '_dir_desc': '内'}, 'street': {'id': '12699360716166484392', 'title': '白塔三街', 'location': {'lat': 41.690243, 'lng': 123.437805}, '_distance': 154.5, '_dir_desc': '东'}, 'landmark_l2': {'id': '6258318964501677083', 'title': '理想新城', 'location': {'lat': 41.693481, 'lng': 123.438163}, '_distance': 0, '_dir_desc': '内'}}}}\n",
      "{'status': 0, 'message': 'query ok', 'request_id': '6371dfd8-8a36-41c4-91e3-5d6a5433dfd5', 'result': {'location': {'lat': 41.694798, 'lng': 123.439704}, 'address': '辽宁省沈阳市浑南区白塔河路', 'formatted_addresses': {'recommend': '浑南区理想新城(白塔河路南150米)', 'rough': '浑南区理想新城(白塔河路南150米)'}, 'address_component': {'nation': '中国', 'province': '辽宁省', 'city': '沈阳市', 'district': '浑南区', 'street': '白塔河路', 'street_number': '白塔河路'}, 'ad_info': {'nation_code': '156', 'adcode': '210112', 'city_code': '156210100', 'name': '中国,辽宁省,沈阳市,浑南区', 'location': {'lat': 41.714729, 'lng': 123.449597}, 'nation': '中国', 'province': '辽宁省', 'city': '沈阳市', 'district': '浑南区'}, 'address_reference': {'street_number': {'id': '', 'title': '', 'location': {'lat': 41.690243, 'lng': 123.437805}, '_distance': 149.7, '_dir_desc': '东'}, 'crossroad': {'id': '72777145', 'title': '白塔河路/白塔三街(路口)', 'location': {'lat': 41.69634, 'lng': 123.43788}, '_distance': 223.2, '_dir_desc': '东南'}, 'town': {'id': '210112008', 'title': '白塔街道', 'location': {'lat': 41.6793, 'lng': 123.425964}, '_distance': 0, '_dir_desc': '内'}, 'street': {'id': '1230077776139042912', 'title': '白塔河路', 'location': {'lat': 41.700737, 'lng': 123.449783}, '_distance': 158.7, '_dir_desc': '南'}, 'landmark_l2': {'id': '6258318964501677083', 'title': '理想新城', 'location': {'lat': 41.693481, 'lng': 123.438163}, '_distance': 0, '_dir_desc': '内'}}}}\n",
      "{'白塔三街': 2, '白塔河路': 1}\n",
      "[(41.69191532326562, 123.43868848536466), (41.69200865321659, 123.43938792476288)]\n",
      "{'status': 0, 'message': 'query ok', 'request_id': 'cfe0b7f3-86c7-48c7-b678-9c109bcdcbfb', 'result': {'location': {'lat': 41.691915, 'lng': 123.438688}, 'address': '辽宁省沈阳市浑南区白塔三街', 'formatted_addresses': {'recommend': '浑南区信达·万科城B区(白塔三街东)', 'rough': '浑南区信达·万科城B区(白塔三街东)'}, 'address_component': {'nation': '中国', 'province': '辽宁省', 'city': '沈阳市', 'district': '浑南区', 'street': '白塔三街', 'street_number': '白塔三街'}, 'ad_info': {'nation_code': '156', 'adcode': '210112', 'city_code': '156210100', 'name': '中国,辽宁省,沈阳市,浑南区', 'location': {'lat': 41.714729, 'lng': 123.449597}, 'nation': '中国', 'province': '辽宁省', 'city': '沈阳市', 'district': '浑南区'}, 'address_reference': {'street_number': {'id': '', 'title': '', 'location': {'lat': 41.690243, 'lng': 123.437805}, '_distance': 65.8, '_dir_desc': '东'}, 'crossroad': {'id': '75023144', 'title': '高深路/白塔三街(路口)', 'location': {'lat': 41.68841, 'lng': 123.43779}, '_distance': 391.4, '_dir_desc': '北'}, 'town': {'id': '210112008', 'title': '白塔街道', 'location': {'lat': 41.6793, 'lng': 123.425964}, '_distance': 0, '_dir_desc': '内'}, 'street': {'id': '12699360716166484392', 'title': '白塔三街', 'location': {'lat': 41.690243, 'lng': 123.437805}, '_distance': 65.8, '_dir_desc': '东'}, 'landmark_l2': {'id': '8442834165901985769', 'title': '信达·万科城B区', 'location': {'lat': 41.69109, 'lng': 123.440252}, '_distance': 4.2, '_dir_desc': ''}}}}\n",
      "{'status': 0, 'message': 'query ok', 'request_id': 'ed068196-a3f8-45c3-81ed-95c62a8dd0fc', 'result': {'location': {'lat': 41.692009, 'lng': 123.439388}, 'address': '辽宁省沈阳市浑南区白塔三街', 'formatted_addresses': {'recommend': '浑南区理想新城(白塔三街东100米)', 'rough': '浑南区理想新城(白塔三街东100米)'}, 'address_component': {'nation': '中国', 'province': '辽宁省', 'city': '沈阳市', 'district': '浑南区', 'street': '白塔三街', 'street_number': '白塔三街'}, 'ad_info': {'nation_code': '156', 'adcode': '210112', 'city_code': '156210100', 'name': '中国,辽宁省,沈阳市,浑南区', 'location': {'lat': 41.714729, 'lng': 123.449597}, 'nation': '中国', 'province': '辽宁省', 'city': '沈阳市', 'district': '浑南区'}, 'address_reference': {'street_number': {'id': '', 'title': '', 'location': {'lat': 41.690243, 'lng': 123.437805}, '_distance': 123.3, '_dir_desc': '东'}, 'crossroad': {'id': '75023144', 'title': '高深路/白塔三街(路口)', 'location': {'lat': 41.68841, 'lng': 123.43779}, '_distance': 416.1, '_dir_desc': '北'}, 'town': {'id': '210112008', 'title': '白塔街道', 'location': {'lat': 41.6793, 'lng': 123.425964}, '_distance': 0, '_dir_desc': '内'}, 'street': {'id': '12699360716166484392', 'title': '白塔三街', 'location': {'lat': 41.690243, 'lng': 123.437805}, '_distance': 123.3, '_dir_desc': '东'}, 'landmark_l2': {'id': '6258318964501677083', 'title': '理想新城', 'location': {'lat': 41.693481, 'lng': 123.438163}, '_distance': 0, '_dir_desc': '内'}}}}\n",
      "{'白塔三街': 2}\n",
      "[(41.68613180859481, 123.4290570624281), (41.68573950068451, 123.42996667777506), (41.68684529355293, 123.42736155002702), (41.68391111525642, 123.42183158830376)]\n",
      "{'status': 120, 'message': '此key每秒请求量已达到上限'}\n"
     ]
    },
    {
     "ename": "KeyError",
     "evalue": "'result'",
     "output_type": "error",
     "traceback": [
      "\u001b[1;31m---------------------------------------------------------------------------\u001b[0m",
      "\u001b[1;31mKeyError\u001b[0m                                  Traceback (most recent call last)",
      "Cell \u001b[1;32mIn[8], line 14\u001b[0m\n\u001b[0;32m     12\u001b[0m centra \u001b[39m=\u001b[39m center_trajectory(midTra[k])\n\u001b[0;32m     13\u001b[0m \u001b[39mprint\u001b[39m(centra)\n\u001b[1;32m---> 14\u001b[0m georequest2(Sub_Trajectory[\u001b[39m0\u001b[39;49m][\u001b[39m\"\u001b[39;49m\u001b[39mvin\u001b[39;49m\u001b[39m\"\u001b[39;49m][\u001b[39m0\u001b[39;49m], centra)\n\u001b[0;32m     15\u001b[0m folium\u001b[39m.\u001b[39mPolyLine(  \n\u001b[0;32m     16\u001b[0m     centra,  \n\u001b[0;32m     17\u001b[0m     weight\u001b[39m=\u001b[39m\u001b[39m3\u001b[39m,  \n\u001b[0;32m     18\u001b[0m     color\u001b[39m=\u001b[39m\u001b[39m\"\u001b[39m\u001b[39mred\u001b[39m\u001b[39m\"\u001b[39m,  \n\u001b[0;32m     19\u001b[0m     opacity\u001b[39m=\u001b[39m\u001b[39m0.5\u001b[39m\n\u001b[0;32m     20\u001b[0m )\u001b[39m.\u001b[39madd_to(\u001b[39mmap\u001b[39m)\n\u001b[0;32m     21\u001b[0m \u001b[39mmap\u001b[39m\u001b[39m.\u001b[39msave(\u001b[39m\"\u001b[39m\u001b[39mMaps/轨迹聚类2.HTML\u001b[39m\u001b[39m\"\u001b[39m)\n",
      "Cell \u001b[1;32mIn[7], line 74\u001b[0m, in \u001b[0;36mgeorequest2\u001b[1;34m(vin, geolocations)\u001b[0m\n\u001b[0;32m     72\u001b[0m     \u001b[39mdict\u001b[39m \u001b[39m=\u001b[39m ast\u001b[39m.\u001b[39mliteral_eval(response\u001b[39m.\u001b[39mtext)\n\u001b[0;32m     73\u001b[0m     \u001b[39mprint\u001b[39m(\u001b[39mdict\u001b[39m)\n\u001b[1;32m---> 74\u001b[0m     f\u001b[39m.\u001b[39mwritelines(\u001b[39mstr\u001b[39m(\u001b[39mdict\u001b[39;49m[\u001b[39m\"\u001b[39;49m\u001b[39mresult\u001b[39;49m\u001b[39m\"\u001b[39;49m][\u001b[39m\"\u001b[39m\u001b[39mlocation\u001b[39m\u001b[39m\"\u001b[39m])\u001b[39m+\u001b[39m\u001b[39m\"\u001b[39m\u001b[39m\\n\u001b[39;00m\u001b[39m\"\u001b[39m) \u001b[39m# 打印轨迹上各点坐标信息\u001b[39;00m\n\u001b[0;32m     75\u001b[0m     Street[\u001b[39mdict\u001b[39m[\u001b[39m\"\u001b[39m\u001b[39mresult\u001b[39m\u001b[39m\"\u001b[39m][\u001b[39m\"\u001b[39m\u001b[39maddress_component\u001b[39m\u001b[39m\"\u001b[39m][\u001b[39m\"\u001b[39m\u001b[39mstreet\u001b[39m\u001b[39m\"\u001b[39m]] \u001b[39m=\u001b[39m Street\u001b[39m.\u001b[39mget(\u001b[39mdict\u001b[39m[\u001b[39m\"\u001b[39m\u001b[39mresult\u001b[39m\u001b[39m\"\u001b[39m][\u001b[39m\"\u001b[39m\u001b[39maddress_component\u001b[39m\u001b[39m\"\u001b[39m][\u001b[39m\"\u001b[39m\u001b[39mstreet\u001b[39m\u001b[39m\"\u001b[39m],\u001b[39m0\u001b[39m)\u001b[39m+\u001b[39m\u001b[39m1\u001b[39m\n\u001b[0;32m     77\u001b[0m \u001b[39m# 返回出现次数最多的路段信息\u001b[39;00m\n",
      "\u001b[1;31mKeyError\u001b[0m: 'result'"
     ]
    }
   ],
   "source": [
    "map = folium.Map(location=Sub_Tra_Geo[0][0], zoom_start=15, attr='default', tiles='https://rt0.map.gtimg.com/tile?z={z}&x={x}&y={-y}')\n",
    "\n",
    "midTra = [[] for i in range(max(result)+1)]\n",
    "index = [[] for i in range(max(result)+1)]\n",
    "length = len(Sub_Trajectory)\n",
    "for j in range(length):\n",
    "    if result[j] != -1:\n",
    "        midTra[result[j]].append(Sub_Tra_Geo[j])\n",
    "        index[result[j]].append(j)\n",
    "\n",
    "for k in range(len(midTra)):\n",
    "    centra = center_trajectory(midTra[k])\n",
    "    print(centra)\n",
    "    georequest2(Sub_Trajectory[0][\"vin\"][0], centra)\n",
    "    folium.PolyLine(  \n",
    "        centra,  \n",
    "        weight=3,  \n",
    "        color=\"red\",  \n",
    "        opacity=0.5\n",
    "    ).add_to(map)\n",
    "    map.save(\"Maps/轨迹聚类2.HTML\")"
   ]
  }
 ],
 "metadata": {
  "kernelspec": {
   "display_name": "pytorch",
   "language": "python",
   "name": "python3"
  },
  "language_info": {
   "codemirror_mode": {
    "name": "ipython",
    "version": 3
   },
   "file_extension": ".py",
   "mimetype": "text/x-python",
   "name": "python",
   "nbconvert_exporter": "python",
   "pygments_lexer": "ipython3",
   "version": "3.9.15"
  },
  "orig_nbformat": 4,
  "vscode": {
   "interpreter": {
    "hash": "5b5292cc5f82d8561d05c044f8ed41e8f78352f5ad17a4513f2686858f295381"
   }
  }
 },
 "nbformat": 4,
 "nbformat_minor": 2
}
