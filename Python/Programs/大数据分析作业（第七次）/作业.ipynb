{
 "cells": [
  {
   "cell_type": "code",
   "execution_count": 1,
   "metadata": {},
   "outputs": [],
   "source": [
    "# 混合高斯模型（以一维两高斯混合模型为例）\n",
    "import numpy as np\n",
    "\n",
    "def Gaussian(x, mu, sigma): # 计算高斯分布密度\n",
    "    \n",
    "    GaussianP = 1 / (sigma * np.sqrt(2 * np.pi)) \\\n",
    "                * np.exp(-1 * np.square(x - mu) / (2 * np.square(sigma)))\n",
    "    \n",
    "    return GaussianP\n",
    "\n",
    "def EM_Algorithm(Data,theta,times): # EM算法\n",
    "    \"\"\"\n",
    "    输入样本数据Data和迭代参数theta=[pi,mu1,sigma1,mu2,sigma2]\n",
    "    \"\"\"\n",
    "    def E_step(x,theta): # E步，计算pi的期望值（进而可知Q函数）\n",
    "        exp_pi = theta[0]*Gaussian(x,theta[1],theta[2])+(1-theta[0])*Gaussian(x,theta[3],theta[4])\n",
    "        exp_pi1 = (theta[0]*Gaussian(x,theta[1],theta[2]))/exp_pi\n",
    "        exp_pi2 = (1-theta[0])*Gaussian(x,theta[3],theta[4])/exp_pi\n",
    "        return(exp_pi1, exp_pi2)\n",
    "    \n",
    "    def M_step(Data,theta): # M步，根据优化计算结果更新参数\n",
    "        theta_new = []\n",
    "        length = len(Data)\n",
    "        sum_exp_pi1,sum_exp_pi2 = 0,0; sum11,sum12 = 0,0; sum21,sum22 = 0,0\n",
    "        for i in range(length):\n",
    "            sum_exp_pi1 =  sum_exp_pi1+E_step(Data[i],theta)[0]\n",
    "            sum_exp_pi2 =  sum_exp_pi2+E_step(Data[i],theta)[1]\n",
    "            sum11 = sum11+E_step(Data[i],theta)[0]*Data[i]\n",
    "            sum21 = sum21+E_step(Data[i],theta)[1]*Data[i]\n",
    "            sum12 = sum12+E_step(Data[i],theta)[0]*(Data[i]-theta[1])*(Data[i]-theta[1])\n",
    "            sum22 = sum12+E_step(Data[i],theta)[1]*(Data[i]-theta[3])*(Data[i]-theta[3])\n",
    "        theta_new.append(sum_exp_pi1/length)\n",
    "        theta_new.append(sum11/sum_exp_pi1)\n",
    "        theta_new.append(np.sqrt(sum12/sum_exp_pi1))\n",
    "        theta_new.append(sum21/sum_exp_pi2)\n",
    "        theta_new.append(np.sqrt(sum12/sum_exp_pi2))\n",
    "        return theta_new\n",
    "    \n",
    "    for j in range(times): # 迭代计算，直至达到预定次数\n",
    "        theta = M_step(Data,theta)\n",
    "    return theta"
   ]
  },
  {
   "cell_type": "code",
   "execution_count": 9,
   "metadata": {},
   "outputs": [
    {
     "name": "stdout",
     "output_type": "stream",
     "text": [
      "[0.40952614686377653, -2.816358376959309, 1.0903358677634654, 3.24818800536025, 0.9080312202724807]\n"
     ]
    },
    {
     "data": {
      "image/png": "[encoded data removed]",
      "text/plain": [
       "<Figure size 640x480 with 1 Axes>"
      ]
     },
     "metadata": {},
     "output_type": "display_data"
    }
   ],
   "source": [
    "# 输入x.csv的数据，假定是二高斯混合分布模型\n",
    "import pandas as pd\n",
    "import matplotlib.pyplot as plt\n",
    "\n",
    "Data = pd.read_csv(\"x.csv\",header=0)[\"x\"]\n",
    "\"\"\"\n",
    "由直方图可以较明显看出数据近似来自于两个不同的高斯分布，不妨猜测：\n",
    "高斯分布1: mu1 = -3; sigma1 = 1\n",
    "高斯分布2: mu2 = 3; sigma2 = 1\n",
    "下面由混合高斯模型EM算法来估算参数\n",
    "\"\"\"\n",
    "Theta = np.array([0.4,-3,1,3,1])\n",
    "theta_new = EM_Algorithm(Data,Theta,100)\n",
    "print(theta_new)\n",
    "\"\"\"\n",
    "经过一百次迭代后，结果为:\n",
    "高斯分布1: mu1 = -2.82; sigma1 = 1.09\n",
    "高斯分布2: mu2 = 3.25; sigma2 = 0.91\n",
    "结果还是挺符合观察情况\n",
    "\n",
    "最后，我们用混合高斯模型进行聚类，基本原理是求每个样本点对应不同分布的期望pi值，看哪个更大\n",
    "\"\"\"\n",
    "def Cluster(Data,Theta,times): # 基于混合高斯模型的聚类\n",
    "    Label = []\n",
    "    Theta = np.array([0.4,-3,1,3,1])\n",
    "    theta_new = EM_Algorithm(Data,Theta,100)\n",
    "    length = len(Data)\n",
    "    for i in range(length):\n",
    "        exp_pi1 = theta_new[0]*Gaussian(Data[i],theta_new[1],theta_new[2])\n",
    "        exp_pi2 = (1-theta_new[0])*Gaussian(Data[i],theta_new[3],theta_new[4])\n",
    "        if exp_pi1>=exp_pi2:\n",
    "            Label.append(1)\n",
    "        else:\n",
    "            Label.append(2)\n",
    "    return Label\n",
    "Label = Cluster(Data,Theta,100) # 聚类结果\n",
    "\n",
    "plt.hist(Data,)\n",
    "length = len(Data)\n",
    "for i in range(length):\n",
    "    if Label[i]==1:\n",
    "        plt.scatter(Data[i],0,color=\"red\")\n",
    "    else:\n",
    "        plt.scatter(Data[i],0,color=\"green\")\n",
    "plt.grid()\n",
    "plt.show() # 输出聚类结果"
   ]
  }
 ],
 "metadata": {
  "kernelspec": {
   "display_name": "pytorch",
   "language": "python",
   "name": "python3"
  },
  "language_info": {
   "codemirror_mode": {
    "name": "ipython",
    "version": 3
   },
   "file_extension": ".py",
   "mimetype": "text/x-python",
   "name": "python",
   "nbconvert_exporter": "python",
   "pygments_lexer": "ipython3",
   "version": "3.9.15"
  },
  "orig_nbformat": 4,
  "vscode": {
   "interpreter": {
    "hash": "5b5292cc5f82d8561d05c044f8ed41e8f78352f5ad17a4513f2686858f295381"
   }
  }
 },
 "nbformat": 4,
 "nbformat_minor": 2
}
