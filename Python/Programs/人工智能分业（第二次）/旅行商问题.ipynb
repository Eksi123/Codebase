{
 "cells": [
  {
   "cell_type": "code",
   "execution_count": 326,
   "metadata": {},
   "outputs": [
    {
     "data": {
      "text/plain": [
       "'\\n新思路：\\n0 初始温度的设定同时考虑了城市规模和两城市最远距离\\n1 用贪婪算法获得初始解\\n2 产生新解的方法：50%的概率交换相邻两城市，30%的概率交换任意两个城市，20%的概率将任意两城市中间的城市逆序\\n3 时刻保存最优解，在某一温度下从最优解开始产生新解\\n'"
      ]
     },
     "execution_count": 326,
     "metadata": {},
     "output_type": "execute_result"
    }
   ],
   "source": [
    "# 导入函数库和距离矩阵数据\n",
    "import numpy as np\n",
    "import pandas as pd\n",
    "import time\n",
    "import matplotlib.pyplot as plt\n",
    "\n",
    "Dis_matrix = pd.read_csv(\"TSP样例数据（距离矩阵）/675_70.txt\", sep=\" \", header=None) # 读取距离矩阵数据\n",
    "Dis_matrix = Dis_matrix.dropna(axis=1)\n",
    "N = Dis_matrix.shape[0]\n",
    "\"\"\"\n",
    "新思路：\n",
    "0 初始温度的设定同时考虑了城市规模和两城市最远距离\n",
    "1 用贪婪算法获得初始解\n",
    "2 产生新解的方法：50%的概率交换相邻两城市，30%的概率交换任意两个城市，20%的概率将任意两城市中间的城市逆序\n",
    "3 时刻保存最优解，在某一温度下从最优解开始产生新解\n",
    "\"\"\""
   ]
  },
  {
   "cell_type": "code",
   "execution_count": 327,
   "metadata": {},
   "outputs": [],
   "source": [
    "# 通过两城市间最大距离来估计初始温度\n",
    "def init_T(Dis_matrix):\n",
    "    dis_max = np.min(np.max(Dis_matrix))\n",
    "    N = Dis_matrix.shape[0]\n",
    "    T_max = dis_max*N # 初始温度同时考虑城市规模和最大距离两个因素，避免初始温度过高或过低\n",
    "    return T_max"
   ]
  },
  {
   "cell_type": "code",
   "execution_count": 332,
   "metadata": {},
   "outputs": [],
   "source": [
    "# 贪婪算法初始化路线（贪婪算法可以很快得到一个不错的初始结果，这样可以大大减少收敛时间）\n",
    "def init_route(Dis_matrix):\n",
    "    N = Dis_matrix.shape[0]\n",
    "    Route = np.array([np.random.randint(N)]) # 起点城市为0号城市\n",
    "    for i in range(N-1):\n",
    "        now_city = Route[len(Route)-1]\n",
    "        next_city = None\n",
    "        for j in np.delete(np.arange(N),Route):\n",
    "            if next_city==None or (Dis_matrix[now_city][j]<=Dis_matrix[now_city][next_city]):\n",
    "                next_city = j\n",
    "        Route = np.append(Route, next_city)\n",
    "    return(Route)"
   ]
  },
  {
   "cell_type": "code",
   "execution_count": 329,
   "metadata": {},
   "outputs": [],
   "source": [
    "# 计算路线总长度\n",
    "def length_route(Dis_matrix,Route):\n",
    "    N = len(Route)\n",
    "    length = 0\n",
    "    for i in range(N-1):\n",
    "        length = length+Dis_matrix[Route[i]][Route[i+1]]\n",
    "    return length"
   ]
  },
  {
   "cell_type": "code",
   "execution_count": 330,
   "metadata": {},
   "outputs": [],
   "source": [
    "# 产生新解\n",
    "# 方式1：交换邻近的两个城市（变化最小）\n",
    "def new_route1(Route):\n",
    "    N = len(Route)\n",
    "    sp = np.random.randint(N-1)\n",
    "    Route[sp],Route[sp+1] = Route[sp+1],Route[sp]\n",
    "    return Route\n",
    "\n",
    "# 方式2：交换任意两个城市（变化适中）\n",
    "def new_route2(Route):\n",
    "    N = len(Route)\n",
    "    sp = np.random.randint(N,size=2)\n",
    "    Route[sp[0]],Route[sp[1]] = Route[sp[1]],Route[sp[0]]\n",
    "    return Route\n",
    "\n",
    "# 方式3：将任意两城市中间的城市逆序（变化最大）\n",
    "def new_route3(Route):\n",
    "    N = len(Route)\n",
    "    sp = np.random.randint(N,size=2)\n",
    "    min = np.min(sp); max = np.max(sp)\n",
    "    route_part = np.array([])\n",
    "    for i in range(max,min-1,-1):\n",
    "        route_part = np.append(route_part,Route[i])\n",
    "    Route = np.append(np.append(Route[:min],route_part),Route[max+1:])\n",
    "    return Route\n",
    "\n",
    "# 变换程度越大，以该方式产生新解的概率就越小，这样就保证了搜索的稳定性，又不至于缩减搜索空间\n",
    "def create_new_route(Route):\n",
    "    p = np.random.rand()\n",
    "    if p<=0.5:\n",
    "        return new_route1(Route)\n",
    "    elif p<=0.8:\n",
    "        return new_route2(Route)\n",
    "    else:\n",
    "        return new_route3(Route)"
   ]
  },
  {
   "cell_type": "code",
   "execution_count": null,
   "metadata": {},
   "outputs": [],
   "source": [
    "# 模拟退火\n",
    "run_time = 0 # 程序执行时间\n",
    "T_max = init_T(Dis_matrix) # 初始温度\n",
    "T_min = 1 # 最低温度\n",
    "T = T_max # 当前温度\n",
    "alpha = 0.99 # 退火系数\n",
    "L = 2000; # 当前温度下内循环次数\n",
    "best_route = init_route(Dis_matrix) # 全局最优解\n",
    "cur_route = init_route(Dis_matrix) # 当前解\n",
    "\n",
    "Length = [] # 记录最优解路线长度\n",
    "times = 0 # 退火次数（降温次数）\n",
    "\n",
    "while T>T_min and run_time<3600:\n",
    "    start_time =time.time()\n",
    "    \"\"\"\n",
    "    模拟退火算法的核心思想是：在温度较高时，允许较多的变异（接受概率接近于1）；而当冷却下来，几乎不允许变异（接受概率接近0），\n",
    "    因此在较高温阶段，一定要尽可能多的变异。\n",
    "\n",
    "    为了保证既定温度下的变异质量，每次内循环都保存最优变异结果，在更新温度后，将从最优结果开始变异（缺点是容易陷入局部最优）。\n",
    "    \"\"\"\n",
    "    for i in range(L):\n",
    "        new_route = create_new_route(cur_route)\n",
    "        dis0 = length_route(Dis_matrix,cur_route)\n",
    "        dis1 = length_route(Dis_matrix,new_route)\n",
    "        dis2 = length_route(Dis_matrix,best_route)\n",
    "        df = dis1-dis0\n",
    "        if df>=0: \n",
    "            p = np.random.rand()\n",
    "            if p < 1/(np.exp(df / T)):\n",
    "                cur_route = new_route.copy()\n",
    "        else:\n",
    "            cur_route = new_route.copy()\n",
    "        \n",
    "        if dis1<dis2:\n",
    "            best_route = new_route.copy()\n",
    "\n",
    "    cur_route = best_route.copy() # \n",
    "    T = T*alpha\n",
    "    times = times+1\n",
    "    Length.append(length_route(Dis_matrix,cur_route))\n",
    "    end_time = time.time()\n",
    "    run_time = run_time + end_time-start_time\n",
    "print(\"best_route : \",best_route,\"\\n\"+\" length : \",length_route(Dis_matrix,best_route))\n",
    "plt.plot(np.arange(times),Length)\n",
    "plt.show()"
   ]
  }
 ],
 "metadata": {
  "kernelspec": {
   "display_name": "pytorch",
   "language": "python",
   "name": "python3"
  },
  "language_info": {
   "codemirror_mode": {
    "name": "ipython",
    "version": 3
   },
   "file_extension": ".py",
   "mimetype": "text/x-python",
   "name": "python",
   "nbconvert_exporter": "python",
   "pygments_lexer": "ipython3",
   "version": "3.9.15 (main, Nov 24 2022, 14:39:17) [MSC v.1916 64 bit (AMD64)]"
  },
  "orig_nbformat": 4,
  "vscode": {
   "interpreter": {
    "hash": "5b5292cc5f82d8561d05c044f8ed41e8f78352f5ad17a4513f2686858f295381"
   }
  }
 },
 "nbformat": 4,
 "nbformat_minor": 2
}
