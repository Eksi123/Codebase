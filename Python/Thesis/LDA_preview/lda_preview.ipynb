{
 "cells": [
  {
   "cell_type": "code",
   "execution_count": 12,
   "metadata": {},
   "outputs": [],
   "source": [
    "# 采用gensim中LDA模型来粗略看看效果\n",
    "\n",
    "# 调用模块数据\n",
    "import os\n",
    "import jieba\n",
    "import jieba.posseg as jp\n",
    "from jieba import analyse\n",
    "from gensim.models.coherencemodel import CoherenceModel\n",
    "from gensim.models.ldamodel import LdaModel\n",
    "from gensim.corpora.dictionary import Dictionary\n",
    "import pyLDAvis.gensim\n",
    "path = 'C:\\\\Users\\\\XGQ\\\\Desktop\\\\Programs\\\\Python\\\\Python程序\\\\Thesis'\n",
    "\n",
    "\n",
    "# 读取需要处理的文本\n",
    "doc=open(path+'\\\\data\\\\服务态度与质量（二级行业）\\\\2020.txt','r',encoding='utf-8')\n",
    "\n",
    "# 关键词词性标注条件\n",
    "# 通常来讲，名词,动词，动名词等更适合作关键词\n",
    "flags = ('n', 'ns', 'nt', 'v','vn','a','an')\n",
    "\n",
    "# 停用词表\n",
    "stopwords1 = open(path+\"\\\\ETM-市长电话文本数据\\\\stopwords\\\\stopwords.txt\",\"r\",encoding='utf-8').read()\n",
    "stopwords2 = open(path+\"\\\\ETM-市长电话文本数据\\\\stopwords\\\\stopwords_supplement.txt\",\"r\",encoding='utf-8').read()\n",
    "stopwords = stopwords1+stopwords2"
   ]
  },
  {
   "cell_type": "code",
   "execution_count": 14,
   "metadata": {},
   "outputs": [],
   "source": [
    "# 分词\n",
    "# jieba.load_userdict('word_dict/CK_xingshi.txt')\n",
    "# jieba.load_userdict('word_dict/CK_DM_changchun.txt')\n",
    "# jieba.load_userdict('word_dict/CK_DanZi.txt')\n",
    "# jieba.load_userdict('word_dict/CK_JiChu.txt')\n",
    "words_ls = []\n",
    "while True:\n",
    "    text = doc.readline()\n",
    "    if not text:\n",
    "        break\n",
    "    words = [word.word for word in jp.cut(text) if word.flag in flags and word.word not in stopwords]\n",
    "    words_ls.append(words)"
   ]
  },
  {
   "cell_type": "code",
   "execution_count": 15,
   "metadata": {},
   "outputs": [
    {
     "name": "stdout",
     "output_type": "stream",
     "text": [
      "(0, '0.079*\"派出所\" + 0.032*\"民警\" + 0.019*\"态度\" + 0.016*\"报警\" + 0.013*\"证明\" + 0.012*\"出警\" + 0.012*\"人口普查\" + 0.011*\"大街\" + 0.009*\"服务态度\" + 0.009*\"开具\"')\n",
      "(1, '0.022*\"态度\" + 0.020*\"业务\" + 0.015*\"排队\" + 0.015*\"交警队\" + 0.015*\"集团\" + 0.011*\"水务\" + 0.010*\"中心\" + 0.010*\"大街\" + 0.010*\"预约\" + 0.009*\"考试\"')\n",
      "(2, '0.019*\"快递\" + 0.015*\"态度\" + 0.014*\"公司\" + 0.013*\"网格\" + 0.009*\"施工\" + 0.008*\"政府\" + 0.008*\"收到\" + 0.007*\"中心\" + 0.007*\"邮寄\" + 0.006*\"分局\"')\n",
      "(3, '0.021*\"态度\" + 0.013*\"供热\" + 0.013*\"接听\" + 0.010*\"身份证\" + 0.007*\"状态\" + 0.007*\"医院\" + 0.006*\"群\" + 0.006*\"服务中心\" + 0.006*\"老人\" + 0.005*\"复印\"')\n",
      "(4, '0.075*\"业务\" + 0.019*\"接听\" + 0.017*\"社保局\" + 0.014*\"大厅\" + 0.013*\"服务态度\" + 0.010*\"证明\" + 0.010*\"服务\" + 0.008*\"身份证\" + 0.007*\"态度\" + 0.007*\"大街\"')\n",
      "(5, '0.012*\"派出所\" + 0.012*\"服务\" + 0.010*\"大街\" + 0.010*\"维修\" + 0.009*\"抄\" + 0.008*\"人工\" + 0.008*\"朋友\" + 0.007*\"停放\" + 0.007*\"表员\" + 0.007*\"挂断\"')\n",
      "(6, '0.017*\"医院\" + 0.016*\"服务态度\" + 0.015*\"态度\" + 0.012*\"供暖\" + 0.010*\"热力\" + 0.009*\"供热\" + 0.007*\"大街\" + 0.007*\"打印\" + 0.006*\"服务\" + 0.006*\"沟通\"')\n",
      "(7, '0.039*\"民警\" + 0.037*\"派出所\" + 0.025*\"态度\" + 0.023*\"市场\" + 0.023*\"管理局\" + 0.022*\"监督\" + 0.014*\"报警\" + 0.011*\"服务态度\" + 0.011*\"警号\" + 0.011*\"沟通\"')\n",
      "(8, '0.022*\"态度\" + 0.021*\"孩子\" + 0.021*\"书记\" + 0.015*\"政府\" + 0.013*\"服务态度\" + 0.010*\"挂断\" + 0.010*\"接种\" + 0.009*\"辱骂\" + 0.009*\"疫苗\" + 0.008*\"母亲\"')\n",
      "(9, '0.019*\"执法\" + 0.017*\"态度\" + 0.010*\"服务态度\" + 0.009*\"城管\" + 0.008*\"证明\" + 0.007*\"停车\" + 0.007*\"政府\" + 0.007*\"蛮横\" + 0.006*\"劳动\" + 0.006*\"执法人员\"')\n"
     ]
    }
   ],
   "source": [
    "# 构造词典\n",
    "dictionary = Dictionary(words_ls)\n",
    "# 基于词典，使【词】→【稀疏向量】，并将向量放入列表，形成【稀疏向量集】\n",
    "corpus = [dictionary.doc2bow(words) for words in words_ls]\n",
    "# lda模型，num_topics设置主题的个数\n",
    "lda = LdaModel(corpus=corpus, id2word=dictionary, num_topics=10, random_state=100, iterations=50)\n",
    "# U_Mass Coherence\n",
    "ldaCM = CoherenceModel(model=lda, corpus=corpus, dictionary=dictionary, coherence='u_mass')\n",
    "\n",
    "# 打印所有主题，每个主题显示10个词\n",
    "for topic in lda.print_topics(num_words=10):\n",
    "    print(topic)\n",
    "\n",
    "# 用pyLDAvis将LDA模式可视化\n",
    "plot =pyLDAvis.gensim.prepare(lda,corpus,dictionary)\n",
    "# 保存到本地html\n",
    "# pyLDAvis.display(plot)\n",
    "# pyLDAvis.save_html(plot, '占道经营（二级行业）.html')"
   ]
  }
 ],
 "metadata": {
  "kernelspec": {
   "display_name": "pytorch-gpu",
   "language": "python",
   "name": "python3"
  },
  "language_info": {
   "codemirror_mode": {
    "name": "ipython",
    "version": 3
   },
   "file_extension": ".py",
   "mimetype": "text/x-python",
   "name": "python",
   "nbconvert_exporter": "python",
   "pygments_lexer": "ipython3",
   "version": "3.11.2"
  },
  "orig_nbformat": 4
 },
 "nbformat": 4,
 "nbformat_minor": 2
}
