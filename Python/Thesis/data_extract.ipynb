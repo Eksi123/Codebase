{
 "cells": [
  {
   "cell_type": "code",
   "execution_count": 2,
   "metadata": {},
   "outputs": [],
   "source": [
    "# 按年份提取供热质量（三级行业）的数据\n",
    "\n",
    "for year in range(2005,2021):\n",
    "    f = open(\"data/供热质量（三级行业）/\"+str(year)+'.txt', 'w', encoding='utf-8')\n",
    "    with open('data/data2005-2020.txt', 'r', encoding='utf-8') as file: \n",
    "        title = file.readline()\n",
    "        while True:\n",
    "            line = file.readline().rstrip()\n",
    "            if not line:\n",
    "                break\n",
    "            line = line.split('\\t')\n",
    "            if int(line[0][:4])>year:\n",
    "                break\n",
    "            try:\n",
    "                if int(line[0][:4])==year and line[5]=='供热质量' and line[9]:\n",
    "                    f.write(line[9]+\"\\n\")\n",
    "            except:\n",
    "                pass\n",
    "    f.close()   "
   ]
  },
  {
   "cell_type": "code",
   "execution_count": 1,
   "metadata": {},
   "outputs": [
    {
     "name": "stdout",
     "output_type": "stream",
     "text": [
      "True\n"
     ]
    }
   ],
   "source": [
    "print('ab' in 'abcde')"
   ]
  },
  {
   "cell_type": "code",
   "execution_count": 2,
   "metadata": {},
   "outputs": [],
   "source": [
    "# 按年份提取一次/二次供水（四级行业）的数据\n",
    "\n",
    "for year in range(2005,2021):\n",
    "    f = open(\"data/一次二次供水（四级行业）/\"+str(year)+'.txt', 'w', encoding='utf-8')\n",
    "    with open('data/data2005-2020.txt', 'r', encoding='utf-8') as file: \n",
    "        title = file.readline()\n",
    "        while True:\n",
    "            line = file.readline().rstrip()\n",
    "            if not line:\n",
    "                break\n",
    "            line = line.split('\\t')\n",
    "            if int(line[0][:4])>year:\n",
    "                break\n",
    "            try:\n",
    "                if int(line[0][:4])==year and line[6] in ['一次供水','二次供水'] and line[9]:\n",
    "                    f.write(line[9]+\"\\n\")\n",
    "            except:\n",
    "                pass\n",
    "    f.close()"
   ]
  },
  {
   "cell_type": "code",
   "execution_count": 3,
   "metadata": {},
   "outputs": [],
   "source": [
    "# 按年份提取生产生活噪声（四级行业）的数据\n",
    "\n",
    "for year in range(2005,2021):\n",
    "    f = open(\"data/生产生活噪声（四级行业）/\"+str(year)+'.txt', 'w', encoding='utf-8')\n",
    "    with open('data/data2005-2020.txt', 'r', encoding='utf-8') as file: \n",
    "        title = file.readline()\n",
    "        while True:\n",
    "            line = file.readline().rstrip()\n",
    "            if not line:\n",
    "                break\n",
    "            line = line.split('\\t')\n",
    "            if int(line[0][:4])>year:\n",
    "                break\n",
    "            try:\n",
    "                if int(line[0][:4])==year and line[5] in ['生活噪音','生产噪声'] and  line[6]=='' and line[9]:\n",
    "                    f.write(line[9]+\"\\n\")\n",
    "            except:\n",
    "                pass\n",
    "    f.close()"
   ]
  },
  {
   "cell_type": "code",
   "execution_count": 2,
   "metadata": {},
   "outputs": [],
   "source": [
    "# 按年份提取生活噪音（四级行业）的数据\n",
    "\n",
    "for year in range(2005,2021):\n",
    "    f = open(\"data/生活噪音（四级行业）/\"+str(year)+'.txt', 'w', encoding='utf-8')\n",
    "    with open('data/data2005-2020.txt', 'r', encoding='utf-8') as file: \n",
    "        title = file.readline()\n",
    "        while True:\n",
    "            line = file.readline().rstrip()\n",
    "            if not line:\n",
    "                break\n",
    "            line = line.split('\\t')\n",
    "            if int(line[0][:4])>year:\n",
    "                break\n",
    "            try:\n",
    "                if int(line[0][:4])==year and line[5]=='生活噪音' and  line[6]=='' and line[9]:\n",
    "                    f.write(line[9]+\"\\n\")\n",
    "            except:\n",
    "                pass\n",
    "    f.close()"
   ]
  },
  {
   "cell_type": "code",
   "execution_count": 3,
   "metadata": {},
   "outputs": [],
   "source": [
    "# 按年份提取生产噪声（四级行业）的数据\n",
    "\n",
    "for year in range(2005,2021):\n",
    "    f = open(\"data/生产噪声（四级行业）/\"+str(year)+'.txt', 'w', encoding='utf-8')\n",
    "    with open('data/data2005-2020.txt', 'r', encoding='utf-8') as file: \n",
    "        title = file.readline()\n",
    "        while True:\n",
    "            line = file.readline().rstrip()\n",
    "            if not line:\n",
    "                break\n",
    "            line = line.split('\\t')\n",
    "            if int(line[0][:4])>year:\n",
    "                break\n",
    "            try:\n",
    "                if int(line[0][:4])==year and line[5]=='生产噪声' and  line[6]=='' and line[9]:\n",
    "                    f.write(line[9]+\"\\n\")\n",
    "            except:\n",
    "                pass\n",
    "    f.close()"
   ]
  },
  {
   "cell_type": "code",
   "execution_count": 5,
   "metadata": {},
   "outputs": [],
   "source": [
    "# 按年份提取违章建筑（二级行业）的数据\n",
    "\n",
    "for year in range(2005,2021):\n",
    "    f = open(\"data/违章建筑（二级行业）/\"+str(year)+'.txt', 'w', encoding='utf-8')\n",
    "    with open('data/data2005-2020.txt', 'r', encoding='utf-8') as file: \n",
    "        title = file.readline()\n",
    "        while True:\n",
    "            line = file.readline().rstrip()\n",
    "            if not line:\n",
    "                break\n",
    "            line = line.split('\\t')\n",
    "            if int(line[0][:4])>year:\n",
    "                break\n",
    "            try:\n",
    "                if int(line[0][:4])==year and line[4]=='违章建筑' and line[9]:\n",
    "                    f.write(line[9]+\"\\n\")\n",
    "            except:\n",
    "                pass\n",
    "    f.close()"
   ]
  },
  {
   "cell_type": "code",
   "execution_count": 6,
   "metadata": {},
   "outputs": [],
   "source": [
    "# 按年份提取占道经营（二级行业）的数据\n",
    "\n",
    "for year in range(2005,2021):\n",
    "    f = open(\"data/占道经营（二级行业）/\"+str(year)+'.txt', 'w', encoding='utf-8')\n",
    "    with open('data/data2005-2020.txt', 'r', encoding='utf-8') as file: \n",
    "        title = file.readline()\n",
    "        while True:\n",
    "            line = file.readline().rstrip()\n",
    "            if not line:\n",
    "                break\n",
    "            line = line.split('\\t')\n",
    "            if int(line[0][:4])>year:\n",
    "                break\n",
    "            try:\n",
    "                if int(line[0][:4])==year and line[4]=='占道经营' and line[9]:\n",
    "                    f.write(line[9]+\"\\n\")\n",
    "            except:\n",
    "                pass\n",
    "    f.close()"
   ]
  },
  {
   "cell_type": "code",
   "execution_count": null,
   "metadata": {},
   "outputs": [],
   "source": [
    "# 按年份提取行政服务（二级行业）的数据\n",
    "\n",
    "for year in range(2005,2021):\n",
    "    f = open(\"data/行政服务（二级行业）/\"+str(year)+'.txt', 'w', encoding='utf-8')\n",
    "    with open('data/data2005-2020.txt', 'r', encoding='utf-8') as file: \n",
    "        title = file.readline()\n",
    "        while True:\n",
    "            line = file.readline().rstrip()\n",
    "            if not line:\n",
    "                break\n",
    "            line = line.split('\\t')\n",
    "            if int(line[0][:4])>year:\n",
    "                break\n",
    "            try:\n",
    "                if int(line[0][:4])==year and line[3]=='行政服务' and line[4]  in ['服务态度与质量','工作效率'] and line[9]:\n",
    "                    f.write(line[9]+\"\\n\")\n",
    "            except:\n",
    "                pass\n",
    "    f.close()"
   ]
  },
  {
   "cell_type": "code",
   "execution_count": 8,
   "metadata": {},
   "outputs": [],
   "source": [
    "# 按年份提取服务态度与质量（二级行业）的数据\n",
    "\n",
    "for year in range(2005,2021):\n",
    "    f = open(\"data/服务态度与质量（二级行业）/\"+str(year)+'.txt', 'w', encoding='utf-8')\n",
    "    with open('data/data2005-2020.txt', 'r', encoding='utf-8') as file: \n",
    "        title = file.readline()\n",
    "        while True:\n",
    "            line = file.readline().rstrip()\n",
    "            if not line:\n",
    "                break\n",
    "            line = line.split('\\t')\n",
    "            if int(line[0][:4])>year:\n",
    "                break\n",
    "            try:\n",
    "                if int(line[0][:4])==year and line[3]=='行政服务' and line[4]=='服务态度与质量' and line[9]:\n",
    "                    f.write(line[9]+\"\\n\")\n",
    "            except:\n",
    "                pass\n",
    "    f.close()"
   ]
  },
  {
   "cell_type": "code",
   "execution_count": 9,
   "metadata": {},
   "outputs": [],
   "source": [
    "# 按年份提取工作效率（二级行业）的数据\n",
    "\n",
    "for year in range(2005,2021):\n",
    "    f = open(\"data/工作效率（二级行业）/\"+str(year)+'.txt', 'w', encoding='utf-8')\n",
    "    with open('data/data2005-2020.txt', 'r', encoding='utf-8') as file: \n",
    "        title = file.readline()\n",
    "        while True:\n",
    "            line = file.readline().rstrip()\n",
    "            if not line:\n",
    "                break\n",
    "            line = line.split('\\t')\n",
    "            if int(line[0][:4])>year:\n",
    "                break\n",
    "            try:\n",
    "                if int(line[0][:4])==year and line[3]=='行政服务' and line[4]=='工作效率' and line[9]:\n",
    "                    f.write(line[9]+\"\\n\")\n",
    "            except:\n",
    "                pass\n",
    "    f.close()"
   ]
  }
 ],
 "metadata": {
  "kernelspec": {
   "display_name": "pytorch-gpu",
   "language": "python",
   "name": "python3"
  },
  "language_info": {
   "codemirror_mode": {
    "name": "ipython",
    "version": 3
   },
   "file_extension": ".py",
   "mimetype": "text/x-python",
   "name": "python",
   "nbconvert_exporter": "python",
   "pygments_lexer": "ipython3",
   "version": "3.6.13"
  },
  "orig_nbformat": 4
 },
 "nbformat": 4,
 "nbformat_minor": 2
}
