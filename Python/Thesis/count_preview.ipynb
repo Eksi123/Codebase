{
 "cells": [
  {
   "cell_type": "code",
   "execution_count": null,
   "metadata": {},
   "outputs": [],
   "source": [
    "# 获取样例数据中各行业的汇总计数情况\n",
    "\n",
    "dict = {}\n",
    "with open(\"data/data2005-2020.txt\",\"r\",encoding='utf-8') as file:\n",
    "    line = file.readline()\n",
    "    while True:\n",
    "        line = file.readline().rstrip()\n",
    "        if not line:\n",
    "            break\n",
    "        rank = line.split(\"\\t\")[3:7]\n",
    "        if rank[0] not in dict:\n",
    "            dict[rank[0]]={}\n",
    "        if rank[1] not in dict[rank[0]]:\n",
    "            dict[rank[0]][rank[1]] = {}\n",
    "        if rank[2] not in dict[rank[0]][rank[1]]:\n",
    "            dict[rank[0]][rank[1]][rank[2]] = {}\n",
    "        dict[rank[0]][rank[1]][rank[2]][rank[3]] = dict[rank[0]][rank[1]][rank[2]].get(rank[3], 0)+1  \n",
    "\n",
    "for key_1 in dict:\n",
    "    print(\"***********************************\")\n",
    "    print((key_1 or \"/\"))\n",
    "    for key_2 in dict[key_1]:\n",
    "        print(\"\\t\"+(key_2 or \"/\"))\n",
    "        for key_3 in dict[key_1][key_2]:\n",
    "            print(\"\\t\\t\"+(key_3 or \"/\"))\n",
    "            for key_4 in dict[key_1][key_2][key_3]:\n",
    "                print(\"\\t\\t\\t\"+(key_4 or \"/\")+\": \"+str(dict[key_1][key_2][key_3][key_4]))     "
   ]
  }
 ],
 "metadata": {
  "kernelspec": {
   "display_name": "pytorch-gpu",
   "language": "python",
   "name": "python3"
  },
  "language_info": {
   "codemirror_mode": {
    "name": "ipython",
    "version": 3
   },
   "file_extension": ".py",
   "mimetype": "text/x-python",
   "name": "python",
   "nbconvert_exporter": "python",
   "pygments_lexer": "ipython3",
   "version": "3.11.2"
  },
  "orig_nbformat": 4
 },
 "nbformat": 4,
 "nbformat_minor": 2
}
