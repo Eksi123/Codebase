{
 "cells": [
  {
   "cell_type": "code",
   "execution_count": 6,
   "metadata": {},
   "outputs": [
    {
     "data": {
      "text/plain": [
       "array([2, 3, 4])"
      ]
     },
     "execution_count": 6,
     "metadata": {},
     "output_type": "execute_result"
    }
   ],
   "source": [
    "import numpy as np\n",
    "a = np.array([1,2,3,4,5,6,7,8,9])\n",
    "a[[1,2,3]]"
   ]
  },
  {
   "cell_type": "code",
   "execution_count": null,
   "metadata": {},
   "outputs": [],
   "source": [
    "import torch\n",
    "from torch import nn\n",
    "\n",
    "embedding = nn.Embedding(20, 5)\n",
    "embedding(torch.LongTensor([0,1,2]))"
   ]
  },
  {
   "cell_type": "code",
   "execution_count": 33,
   "metadata": {},
   "outputs": [
    {
     "data": {
      "text/plain": [
       "(array([ 21.,  47.,  93., 188., 251., 225., 123.,  37.,  13.,   2.]),\n",
       " array([-2.69215155, -2.09122639, -1.49030123, -0.88937607, -0.28845091,\n",
       "         0.31247425,  0.91339941,  1.51432457,  2.11524973,  2.71617489,\n",
       "         3.31710005]),\n",
       " <BarContainer object of 10 artists>)"
      ]
     },
     "execution_count": 33,
     "metadata": {},
     "output_type": "execute_result"
    },
    {
     "data": {
      "image/png": "[encoded data removed]",
      "text/plain": [
       "<Figure size 432x288 with 1 Axes>"
      ]
     },
     "metadata": {
      "needs_background": "light"
     },
     "output_type": "display_data"
    }
   ],
   "source": [
    "import torch\n",
    "import matplotlib.pyplot as plt\n",
    "std = 1.0\n",
    "eps1 = []\n",
    "for  i in range(1000):\n",
    "    a = torch.randn_like(torch.tensor(std)).item()\n",
    "    eps1.append(a)\n",
    "plt.hist(eps1)\n",
    "\n",
    "std = 4.5\n",
    "eps2 = []\n",
    "for  i in range(1000):\n",
    "    a = torch.randn_like(torch.tensor(std)).item()\n",
    "    eps2.append(a)\n",
    "plt.hist(eps2)"
   ]
  },
  {
   "cell_type": "code",
   "execution_count": 6,
   "metadata": {},
   "outputs": [
    {
     "name": "stdout",
     "output_type": "stream",
     "text": [
      "torch.Size([100, 5])\n",
      "tensor([[0.7811, 0.7091, 0.8290, 0.7382, 0.2054],\n",
      "        [0.1368, 0.7986, 0.2537, 0.7551, 0.3166],\n",
      "        [0.3501, 0.4160, 0.8050, 0.5753, 0.1303],\n",
      "        [0.2499, 0.7350, 0.2101, 0.7724, 0.5706],\n",
      "        [0.8943, 0.6525, 0.1769, 0.0179, 0.8884],\n",
      "        [0.1235, 0.1553, 0.6956, 0.1387, 0.6048],\n",
      "        [0.6673, 0.7819, 0.0167, 0.5428, 0.8710],\n",
      "        [0.0082, 0.0365, 0.9888, 0.3801, 0.7076],\n",
      "        [0.9733, 0.8404, 0.1989, 0.1224, 0.0935],\n",
      "        [0.8676, 0.7826, 0.7995, 0.2658, 0.2653]])\n",
      "---\n",
      "tensor([[0.1903, 0.0339, 0.4590, 0.7796, 0.7958],\n",
      "        [0.2953, 0.3933, 0.1148, 0.6468, 0.2501],\n",
      "        [0.1728, 0.6735, 0.3010, 0.5969, 0.4353],\n",
      "        [0.4778, 0.8198, 0.3838, 0.4284, 0.0800],\n",
      "        [0.9919, 0.1652, 0.7463, 0.7733, 0.3735],\n",
      "        [0.9952, 0.1679, 0.6916, 0.2274, 0.9169],\n",
      "        [0.9811, 0.9139, 0.8706, 0.9019, 0.7115],\n",
      "        [0.4904, 0.0145, 0.8599, 0.4860, 0.6925],\n",
      "        [0.9562, 0.4889, 0.9024, 0.8988, 0.2793],\n",
      "        [0.0689, 0.4404, 0.7386, 0.7773, 0.8701]])\n",
      "---\n",
      "tensor([[0.3697, 0.0900, 0.3860, 0.8500, 0.8585],\n",
      "        [0.0387, 0.4693, 0.4439, 0.4910, 0.6030],\n",
      "        [0.7972, 0.4554, 0.2187, 0.9940, 0.6338],\n",
      "        [0.1553, 0.2502, 0.1229, 0.8613, 0.9721],\n",
      "        [0.8808, 0.7092, 0.3806, 0.4739, 0.4450],\n",
      "        [0.0225, 0.5931, 0.2091, 0.6073, 0.7386],\n",
      "        [0.4564, 0.9917, 0.6303, 0.5724, 0.9537],\n",
      "        [0.2037, 0.1950, 0.6639, 0.6503, 0.8355],\n",
      "        [0.2329, 0.3728, 0.5243, 0.6431, 0.1697],\n",
      "        [0.9797, 0.7193, 0.4804, 0.0415, 0.3507]])\n",
      "---\n",
      "tensor([[0.0216, 0.0847, 0.5119, 0.8631, 0.9515],\n",
      "        [0.0775, 0.9335, 0.9570, 0.0256, 0.7999],\n",
      "        [0.8995, 0.2399, 0.0293, 0.6369, 0.7917],\n",
      "        [0.4540, 0.6995, 0.6736, 0.9583, 0.2351],\n",
      "        [0.3473, 0.8679, 0.9676, 0.7266, 0.3371],\n",
      "        [0.0558, 0.7422, 0.6716, 0.1777, 0.4201],\n",
      "        [0.4488, 0.3761, 0.9332, 0.2493, 0.7875],\n",
      "        [0.7900, 0.3446, 0.2112, 0.9482, 0.1595],\n",
      "        [0.1027, 0.0546, 0.3790, 0.1885, 0.2570],\n",
      "        [0.5571, 0.0794, 0.0593, 0.7660, 0.3966]])\n",
      "---\n",
      "tensor([[0.9934, 0.4740, 0.0167, 0.3778, 0.4411],\n",
      "        [0.2215, 0.2630, 0.6012, 0.2551, 0.0331],\n",
      "        [0.0122, 0.1881, 0.4274, 0.0390, 0.1402],\n",
      "        [0.7249, 0.7783, 0.4599, 0.0453, 0.4698],\n",
      "        [0.9684, 0.2268, 0.8445, 0.7051, 0.2166],\n",
      "        [0.1836, 0.6633, 0.4184, 0.2614, 0.4922],\n",
      "        [0.7926, 0.3705, 0.0889, 0.2002, 0.3717],\n",
      "        [0.1607, 0.4305, 0.9893, 0.8092, 0.5306],\n",
      "        [0.5406, 0.4204, 0.4283, 0.2042, 0.7005],\n",
      "        [0.7101, 0.5329, 0.9381, 0.3390, 0.8087]])\n",
      "---\n",
      "tensor([[0.8586, 0.4954, 0.3100, 0.5710, 0.9888],\n",
      "        [0.4522, 0.2250, 0.8630, 0.0058, 0.3941],\n",
      "        [0.4861, 0.7492, 0.5536, 0.9105, 0.4998],\n",
      "        [0.4346, 0.3270, 0.7956, 0.9950, 0.6671],\n",
      "        [0.9220, 0.4945, 0.8244, 0.4167, 0.9767],\n",
      "        [0.8368, 0.6597, 0.9199, 0.3373, 0.5378],\n",
      "        [0.7821, 0.9935, 0.9430, 0.3326, 0.4162],\n",
      "        [0.9008, 0.9766, 0.7508, 0.1360, 0.9704],\n",
      "        [0.4652, 0.0553, 0.2399, 0.2033, 0.3867],\n",
      "        [0.5547, 0.4279, 0.9624, 0.7219, 0.8172]])\n",
      "---\n",
      "tensor([[0.4712, 0.9555, 0.7924, 0.1874, 0.7070],\n",
      "        [0.4057, 0.2281, 0.2826, 0.7204, 0.7246],\n",
      "        [0.8651, 0.4996, 0.2374, 0.4695, 0.9456],\n",
      "        [0.9866, 0.6953, 0.0555, 0.0922, 0.6929],\n",
      "        [0.5465, 0.0887, 0.2261, 0.9777, 0.4146],\n",
      "        [0.3382, 0.7401, 0.0249, 0.0596, 0.6348],\n",
      "        [0.8933, 0.6455, 0.9463, 0.8255, 0.6140],\n",
      "        [0.4980, 0.2799, 0.8792, 0.5010, 0.1549],\n",
      "        [0.7216, 0.6985, 0.3566, 0.1083, 0.1909],\n",
      "        [0.8599, 0.1696, 0.2306, 0.7341, 0.7401]])\n",
      "---\n",
      "tensor([[0.3667, 0.1368, 0.5014, 0.7686, 0.3783],\n",
      "        [0.4613, 0.4207, 0.9459, 0.0826, 0.8643],\n",
      "        [0.2411, 0.0456, 0.2248, 0.3757, 0.0963],\n",
      "        [0.2896, 0.4181, 0.7827, 0.1068, 0.2229],\n",
      "        [0.3826, 0.2667, 0.8626, 0.7474, 0.0264],\n",
      "        [0.6006, 0.1912, 0.3575, 0.9043, 0.1658],\n",
      "        [0.0028, 0.0580, 0.2878, 0.2784, 0.5776],\n",
      "        [0.7651, 0.5248, 0.0703, 0.9247, 0.2119],\n",
      "        [0.4829, 0.3321, 0.8173, 0.5185, 0.6454],\n",
      "        [0.7355, 0.1135, 0.9630, 0.0241, 0.3292]])\n",
      "---\n",
      "tensor([[0.2931, 0.2986, 0.4145, 0.7610, 0.4547],\n",
      "        [0.5104, 0.4624, 0.2401, 0.1045, 0.2077],\n",
      "        [0.8832, 0.8199, 0.7536, 0.4999, 0.8366],\n",
      "        [0.0712, 0.0287, 0.9318, 0.9371, 0.6432],\n",
      "        [0.7975, 0.4927, 0.4172, 0.6743, 0.2247],\n",
      "        [0.7237, 0.2280, 0.6402, 0.3031, 0.3535],\n",
      "        [0.6128, 0.0440, 0.0767, 0.4139, 0.2463],\n",
      "        [0.5894, 0.6046, 0.0568, 0.5174, 0.7631],\n",
      "        [0.4227, 0.2655, 0.0984, 0.6125, 0.9757],\n",
      "        [0.7223, 0.5942, 0.9909, 0.8241, 0.4019]])\n",
      "---\n",
      "tensor([[0.5733, 0.3267, 0.7673, 0.3561, 0.8935],\n",
      "        [0.1303, 0.9181, 0.1988, 0.5172, 0.8192],\n",
      "        [0.0865, 0.5522, 0.1732, 0.2589, 0.8630],\n",
      "        [0.5696, 0.4473, 0.8091, 0.3262, 0.9012],\n",
      "        [0.2531, 0.4264, 0.8654, 0.6431, 0.7794],\n",
      "        [0.7604, 0.5868, 0.1645, 0.0394, 0.5684],\n",
      "        [0.3044, 0.3384, 0.9607, 0.5814, 0.3262],\n",
      "        [0.9238, 0.3209, 0.9510, 0.7803, 0.2889],\n",
      "        [0.2804, 0.8566, 0.2058, 0.5261, 0.8136],\n",
      "        [0.7831, 0.2018, 0.7672, 0.0413, 0.2146]])\n",
      "---\n"
     ]
    }
   ],
   "source": [
    "from torch.utils.data import DataLoader\n",
    "import torch\n",
    "\n",
    "data = torch.rand(100,5)\n",
    "print(data.shape)\n",
    "loader = DataLoader(dataset=data,batch_size=10)\n",
    "for l in loader:\n",
    "    print(l)\n",
    "    print(\"---\")\n"
   ]
  },
  {
   "cell_type": "code",
   "execution_count": 6,
   "metadata": {},
   "outputs": [
    {
     "data": {
      "text/plain": [
       "{'a': 1, 'b': 2, 'c': 3}"
      ]
     },
     "execution_count": 6,
     "metadata": {},
     "output_type": "execute_result"
    }
   ],
   "source": [
    "a = ['a','b','c']\n",
    "A = [1,2,3]\n",
    "d = dict([(word,value) for word, value in zip(a,A)])\n",
    "d"
   ]
  },
  {
   "cell_type": "code",
   "execution_count": 16,
   "metadata": {},
   "outputs": [
    {
     "name": "stdout",
     "output_type": "stream",
     "text": [
      "5\n"
     ]
    },
    {
     "data": {
      "text/plain": [
       "[[-2, 0, 2]]"
      ]
     },
     "execution_count": 16,
     "metadata": {},
     "output_type": "execute_result"
    }
   ],
   "source": [
    "class Solution:\n",
    "    def threeSum(self, nums):\n",
    "        nums.sort()\n",
    "        l = len(nums)\n",
    "        result = []\n",
    "        print(l)\n",
    "        for i in range(l-2):\n",
    "            sp = i\n",
    "            if sp==0 or nums[sp]!=nums[sp-1]:\n",
    "                left,right = i+1,l-1\n",
    "                while left<right:\n",
    "                    if nums[sp]+nums[left]+nums[right]==0:\n",
    "                        result.append([nums[sp],nums[left],nums[right]])\n",
    "                        while True:\n",
    "                            # print(l,left,right)\n",
    "                            if nums[left+1]>nums[left] or nums[right-1]<nums[right]:\n",
    "                                left += 1\n",
    "                                right -= 1\n",
    "                                break\n",
    "                            else:\n",
    "                                left += 1\n",
    "                                right -= 1\n",
    "                    elif nums[sp]+nums[left]+nums[right]<0:\n",
    "                        while True:\n",
    "                            if nums[left+1]>nums[left]:\n",
    "                                left += 1\n",
    "                                break\n",
    "                            else:\n",
    "                                left += 1\n",
    "                    else:\n",
    "                        while True:\n",
    "                            if nums[right-1]<nums[right]:\n",
    "                                right -= 1\n",
    "                                break\n",
    "                            else:\n",
    "                                right -= 1\n",
    "        return result\n",
    "\n",
    "a = [-2,0,0,2,2]\n",
    "Solution().threeSum(a)"
   ]
  },
  {
   "cell_type": "code",
   "execution_count": 25,
   "metadata": {},
   "outputs": [
    {
     "name": "stdout",
     "output_type": "stream",
     "text": [
      "0 []\n",
      "1 [1]\n",
      "2 [1, 3]\n",
      "3 [1, 3, 5]\n",
      "4 [1, 3, 5, 7]\n",
      "5 [1, 3, 5, 7, 4]\n",
      "ok\n",
      "----------------------\n",
      "4 -- [1, 3, 5, 7]\n",
      "ok\n",
      "----------------------\n",
      "3 -- [1, 3, 5]\n",
      "5 [1, 3, 5, 4]\n",
      "ok\n",
      "----------------------\n",
      "4 -- [1, 3, 5]\n",
      "ok\n",
      "----------------------\n",
      "2 -- [1, 3]\n",
      "4 [1, 3, 7]\n",
      "5 [1, 3, 7, 4]\n",
      "ok\n",
      "----------------------\n",
      "4 -- [1, 3, 7]\n",
      "ok\n",
      "----------------------\n",
      "3 -- [1, 3]\n",
      "5 [1, 3, 4]\n",
      "ok\n",
      "----------------------\n",
      "4 -- [1, 3]\n",
      "ok\n",
      "----------------------\n",
      "1 -- [1]\n",
      "3 [1, 5]\n",
      "4 [1, 5, 7]\n",
      "5 [1, 5, 7, 4]\n",
      "ok\n",
      "----------------------\n",
      "4 -- [1, 5, 7]\n",
      "ok\n",
      "----------------------\n",
      "3 -- [1, 5]\n",
      "5 [1, 5, 4]\n",
      "ok\n",
      "----------------------\n",
      "4 -- [1, 5]\n",
      "ok\n",
      "----------------------\n",
      "2 -- [1]\n",
      "4 [1, 7]\n",
      "5 [1, 7, 4]\n",
      "ok\n",
      "----------------------\n",
      "4 -- [1, 7]\n",
      "ok\n",
      "----------------------\n",
      "3 -- [1]\n",
      "5 [1, 4]\n",
      "ok\n",
      "----------------------\n",
      "4 -- [1]\n",
      "ok\n",
      "----------------------\n",
      "0 -- []\n",
      "2 [3]\n",
      "3 [3, 5]\n",
      "4 [3, 5, 7]\n",
      "5 [3, 5, 7, 4]\n",
      "ok\n",
      "----------------------\n",
      "4 -- [3, 5, 7]\n",
      "ok\n",
      "----------------------\n",
      "3 -- [3, 5]\n",
      "5 [3, 5, 4]\n",
      "ok\n",
      "----------------------\n",
      "4 -- [3, 5]\n",
      "ok\n",
      "----------------------\n",
      "2 -- [3]\n",
      "4 [3, 7]\n",
      "5 [3, 7, 4]\n",
      "ok\n",
      "----------------------\n",
      "4 -- [3, 7]\n",
      "ok\n",
      "----------------------\n",
      "3 -- [3]\n",
      "5 [3, 4]\n",
      "ok\n",
      "----------------------\n",
      "4 -- [3]\n",
      "ok\n",
      "----------------------\n",
      "1 -- []\n",
      "3 [5]\n",
      "4 [5, 7]\n",
      "5 [5, 7, 4]\n",
      "ok\n",
      "----------------------\n",
      "4 -- [5, 7]\n",
      "ok\n",
      "----------------------\n",
      "3 -- [5]\n",
      "5 [5, 4]\n",
      "ok\n",
      "----------------------\n",
      "4 -- [5]\n",
      "ok\n",
      "----------------------\n",
      "2 -- []\n",
      "4 [7]\n",
      "5 [7, 4]\n",
      "ok\n",
      "----------------------\n",
      "4 -- [7]\n",
      "ok\n",
      "----------------------\n",
      "3 -- []\n",
      "5 [4]\n",
      "ok\n",
      "----------------------\n",
      "4 -- []\n",
      "ok\n"
     ]
    },
    {
     "data": {
      "text/plain": [
       "[[],\n",
       " [1],\n",
       " [1, 3],\n",
       " [1, 3, 5],\n",
       " [1, 3, 5, 7],\n",
       " [1, 3, 5, 7, 4],\n",
       " [1, 3, 5, 4],\n",
       " [1, 3, 7],\n",
       " [1, 3, 7, 4],\n",
       " [1, 3, 4],\n",
       " [1, 5],\n",
       " [1, 5, 7],\n",
       " [1, 5, 7, 4],\n",
       " [1, 5, 4],\n",
       " [1, 7],\n",
       " [1, 7, 4],\n",
       " [1, 4],\n",
       " [3],\n",
       " [3, 5],\n",
       " [3, 5, 7],\n",
       " [3, 5, 7, 4],\n",
       " [3, 5, 4],\n",
       " [3, 7],\n",
       " [3, 7, 4],\n",
       " [3, 4],\n",
       " [5],\n",
       " [5, 7],\n",
       " [5, 7, 4],\n",
       " [5, 4],\n",
       " [7],\n",
       " [7, 4],\n",
       " [4]]"
      ]
     },
     "execution_count": 25,
     "metadata": {},
     "output_type": "execute_result"
    }
   ],
   "source": [
    "class Solution:\n",
    "    def subsets(self, nums):\n",
    "        res, track = list(), list()\n",
    "        def backtrack(nums, start):\n",
    "            # 每个节点的值都是一个子集 加入子集\n",
    "            print(start,track)\n",
    "            res.append(track[:]) # 注意python的list浅拷贝 切片第一层是深拷贝\n",
    "            # 对于选择列表中的每个选择\n",
    "            for i in range(start,len(nums)):\n",
    "                # 做选择\n",
    "                track.append(nums[i])\n",
    "                # 递归\n",
    "                backtrack(nums,i+1)\n",
    "                print('----------------------')\n",
    "                # 撤销选择\n",
    "                track.pop()\n",
    "                print(i,'--',track)\n",
    "            print(\"ok\")\n",
    "        backtrack(nums,0)\n",
    "        return res\n",
    "    \n",
    "Solution().subsets([1,3,5,7,4])"
   ]
  },
  {
   "cell_type": "code",
   "execution_count": 12,
   "metadata": {},
   "outputs": [
    {
     "ename": "RuntimeError",
     "evalue": "mat1 and mat2 shapes cannot be multiplied (2x5 and 10x5)",
     "output_type": "error",
     "traceback": [
      "\u001b[1;31m---------------------------------------------------------------------------\u001b[0m",
      "\u001b[1;31mRuntimeError\u001b[0m                              Traceback (most recent call last)",
      "\u001b[1;32m<ipython-input-12-39bbe2ff163b>\u001b[0m in \u001b[0;36m<module>\u001b[1;34m\u001b[0m\n\u001b[0;32m      4\u001b[0m \u001b[0mlinear1\u001b[0m \u001b[1;33m=\u001b[0m \u001b[0mnn\u001b[0m\u001b[1;33m.\u001b[0m\u001b[0mLinear\u001b[0m\u001b[1;33m(\u001b[0m\u001b[1;36m10\u001b[0m\u001b[1;33m,\u001b[0m\u001b[1;36m5\u001b[0m\u001b[1;33m,\u001b[0m\u001b[0mbias\u001b[0m\u001b[1;33m=\u001b[0m\u001b[1;32mFalse\u001b[0m\u001b[1;33m)\u001b[0m\u001b[1;33m\u001b[0m\u001b[1;33m\u001b[0m\u001b[0m\n\u001b[0;32m      5\u001b[0m \u001b[0mlinear2\u001b[0m \u001b[1;33m=\u001b[0m \u001b[0mnn\u001b[0m\u001b[1;33m.\u001b[0m\u001b[0mLinear\u001b[0m\u001b[1;33m(\u001b[0m\u001b[1;36m5\u001b[0m\u001b[1;33m,\u001b[0m\u001b[1;36m2\u001b[0m\u001b[1;33m,\u001b[0m\u001b[0mbias\u001b[0m\u001b[1;33m=\u001b[0m\u001b[1;32mFalse\u001b[0m\u001b[1;33m)\u001b[0m\u001b[1;33m\u001b[0m\u001b[1;33m\u001b[0m\u001b[0m\n\u001b[1;32m----> 6\u001b[1;33m \u001b[0mlinear\u001b[0m \u001b[1;33m=\u001b[0m \u001b[0mtorch\u001b[0m\u001b[1;33m.\u001b[0m\u001b[0mmm\u001b[0m\u001b[1;33m(\u001b[0m\u001b[0mlinear2\u001b[0m\u001b[1;33m.\u001b[0m\u001b[0mweight\u001b[0m\u001b[1;33m,\u001b[0m \u001b[0mlinear1\u001b[0m\u001b[1;33m.\u001b[0m\u001b[0mweight\u001b[0m\u001b[1;33m.\u001b[0m\u001b[0mT\u001b[0m\u001b[1;33m)\u001b[0m\u001b[1;33m\u001b[0m\u001b[1;33m\u001b[0m\u001b[0m\n\u001b[0m\u001b[0;32m      7\u001b[0m \u001b[0mnums\u001b[0m \u001b[1;33m=\u001b[0m \u001b[0mtorch\u001b[0m\u001b[1;33m.\u001b[0m\u001b[0mrand\u001b[0m\u001b[1;33m(\u001b[0m\u001b[1;36m10\u001b[0m\u001b[1;33m)\u001b[0m\u001b[1;33m\u001b[0m\u001b[1;33m\u001b[0m\u001b[0m\n\u001b[0;32m      8\u001b[0m \u001b[1;33m\u001b[0m\u001b[0m\n",
      "\u001b[1;31mRuntimeError\u001b[0m: mat1 and mat2 shapes cannot be multiplied (2x5 and 10x5)"
     ]
    }
   ],
   "source": [
    "import torch\n",
    "from torch import nn\n",
    "\n",
    "linear1 = nn.Linear(5,10,bias=False)\n",
    "linear2 = nn.Linear(5,2,bias=False)\n",
    "linear = torch.mm(linear2.weight, linear1.weight.T)\n",
    "nums = torch.rand(10)\n",
    "\n",
    "a = linear1(nums)\n",
    "b = linear2(a)\n",
    "print(b)\n",
    "\n",
    "b = linear(nums)\n",
    "print(b)"
   ]
  },
  {
   "cell_type": "code",
   "execution_count": 7,
   "metadata": {},
   "outputs": [
    {
     "name": "stdout",
     "output_type": "stream",
     "text": [
      "enc_0 Linear(in_features=2000, out_features=1024, bias=True)\n",
      "enc_1 Linear(in_features=1024, out_features=512, bias=True)\n",
      "0 Linear(in_features=20, out_features=1024, bias=True)\n",
      "1\n",
      "1 Linear(in_features=1024, out_features=2000, bias=True)\n"
     ]
    }
   ],
   "source": [
    "from torch import nn\n",
    "encode_dims=[2000,1024,512,20]\n",
    "decode_dims=[20,1024,2000]\n",
    "\n",
    "encoder = nn.ModuleDict({\n",
    "    f'enc_{i}':nn.Linear(encode_dims[i],encode_dims[i+1]) \n",
    "    for i in range(len(encode_dims)-2)\n",
    "})\n",
    "\n",
    "decoder = nn.ModuleDict({\n",
    "    f'dec_{i}':nn.Linear(decode_dims[i],decode_dims[i+1])\n",
    "    for i in range(len(decode_dims)-1)\n",
    "})\n",
    "\n",
    "for i,layer in encoder.items():\n",
    "    print(i,layer)\n",
    "\n",
    "for i,(_,layer) in enumerate(decoder.items()):\n",
    "    print(i,layer)\n",
    "    if i<len(decoder)-1:\n",
    "        print(1)"
   ]
  },
  {
   "cell_type": "code",
   "execution_count": 12,
   "metadata": {},
   "outputs": [
    {
     "name": "stdout",
     "output_type": "stream",
     "text": [
      "tensor([[1., 3., 6.],\n",
      "        [1., 4., 5.]])\n",
      "tensor([[-5.0550, -3.0550, -0.0550],\n",
      "        [-4.3266, -1.3266, -0.3266]])\n"
     ]
    }
   ],
   "source": [
    "import torch\n",
    "import torch.nn.functional as F\n",
    "inp1=torch.Tensor([[1,3,6],[1,4,5]])\n",
    "print(inp1)\n",
    "print(F.log_softmax(inp1,dim=1))\n"
   ]
  },
  {
   "cell_type": "code",
   "execution_count": 7,
   "metadata": {},
   "outputs": [
    {
     "name": "stdout",
     "output_type": "stream",
     "text": [
      "['0', '无偿', '居间', '介绍', '买卖', '毒品', '的', '行为', '应', '如何', '定性']\n",
      "['1', '吸毒', '男', '动态', '持有', '大量', '毒品', '的', '行为', '该', '如何', '认定']\n",
      "['2', '如何', '区分', '是', '非法', '种植', '毒品', '原', '植物', '罪', '还是', '非法', '制造', '毒品', '罪']\n",
      "['3', '为', '毒贩', '贩卖毒品', '提供', '帮助', '构成', '贩卖毒品', '罪']\n",
      "['4', '将', '自己', '吸食', '的', '毒品', '原价', '转让', '给', '朋友', '吸食', '的', '行为', '该', '如何', '认定']\n",
      "['5', '为', '获', '报酬', '帮人', '购买', '毒品', '的', '行为', '该', '如何', '认定']\n",
      "['6', '毒贩', '出狱', '后', '再次', '够买', '毒品', '途中', '被', '抓', '的', '行为', '认定']\n",
      "['7', '虚夸', '毒品', '功效', '劝人', '吸食毒品', '的', '行为', '该', '如何', '认定']\n",
      "['8', '妻子', '下落不明', '丈夫', '又', '与', '他人', '登记', '结婚', '是否', '为', '无效', '婚姻']\n",
      "['9', '一方', '未', '签字', '办理', '的', '结婚登记', '是否', '有效']\n",
      "['10', '夫妻', '双方', '1990', '年', '按', '农村', '习俗', '举办', '婚礼', '没有', '结婚证', ' ', '一方', '可否', '起诉', '离婚']\n",
      "['11', '结婚', '前', '对方', '父母', '出资', '购买', '的', '住房', '写', '我们', '二人', '的', '名字', '有效', '吗']\n",
      "['12', '身份证', '被', '别人', '冒用', '无法', '登记', '结婚', '怎么办', '？']\n",
      "['13', '同居', '后', '又', '与', '他人', '登记', '结婚', '是否', '构成', '重婚罪']\n",
      "['14', '未办', '登记', '只', '举办', '结婚仪式', '可', '起诉', '离婚', '吗']\n",
      "['15', '同居', '多年', '未办理', '结婚登记', '，', '是否', '可以', '向', '法院', '起诉', '要求', '离婚']\n",
      "{'0': 0, '买卖': 1, '介绍': 2, '如何': 3, '定性': 4, '居间': 5, '应': 6, '无偿': 7, '毒品': 8, '的': 9, '行为': 10, '1': 11, '动态': 12, '吸毒': 13, '大量': 14, '持有': 15, '男': 16, '认定': 17, '该': 18, '2': 19, '制造': 20, '区分': 21, '原': 22, '是': 23, '植物': 24, '种植': 25, '罪': 26, '还是': 27, '非法': 28, '3': 29, '为': 30, '帮助': 31, '提供': 32, '构成': 33, '毒贩': 34, '贩卖毒品': 35, '4': 36, '原价': 37, '吸食': 38, '将': 39, '朋友': 40, '给': 41, '自己': 42, '转让': 43, '5': 44, '帮人': 45, '报酬': 46, '获': 47, '购买': 48, '6': 49, '再次': 50, '出狱': 51, '后': 52, '够买': 53, '抓': 54, '被': 55, '途中': 56, '7': 57, '劝人': 58, '功效': 59, '吸食毒品': 60, '虚夸': 61, '8': 62, '丈夫': 63, '下落不明': 64, '与': 65, '他人': 66, '又': 67, '妻子': 68, '婚姻': 69, '无效': 70, '是否': 71, '登记': 72, '结婚': 73, '9': 74, '一方': 75, '办理': 76, '有效': 77, '未': 78, '签字': 79, '结婚登记': 80, ' ': 81, '10': 82, '1990': 83, '举办': 84, '习俗': 85, '农村': 86, '双方': 87, '可否': 88, '夫妻': 89, '婚礼': 90, '年': 91, '按': 92, '没有': 93, '离婚': 94, '结婚证': 95, '起诉': 96, '11': 97, '二人': 98, '住房': 99, '写': 100, '出资': 101, '前': 102, '名字': 103, '吗': 104, '对方': 105, '我们': 106, '父母': 107, '12': 108, '冒用': 109, '别人': 110, '怎么办': 111, '无法': 112, '身份证': 113, '？': 114, '13': 115, '同居': 116, '重婚罪': 117, '14': 118, '只': 119, '可': 120, '未办': 121, '结婚仪式': 122, '15': 123, '可以': 124, '向': 125, '多年': 126, '未办理': 127, '法院': 128, '要求': 129, '，': 130}\n"
     ]
    },
    {
     "data": {
      "text/plain": [
       "[(3, 1),\n",
       " (8, 1),\n",
       " (9, 1),\n",
       " (10, 1),\n",
       " (11, 1),\n",
       " (12, 1),\n",
       " (13, 1),\n",
       " (14, 1),\n",
       " (15, 1),\n",
       " (16, 1),\n",
       " (17, 1),\n",
       " (18, 1)]"
      ]
     },
     "execution_count": 7,
     "metadata": {},
     "output_type": "execute_result"
    }
   ],
   "source": [
    "import gensim\n",
    "import jieba\n",
    "# 训练样本\n",
    "from gensim import corpora\n",
    "\n",
    "raw_documents = [\n",
    "    '0无偿居间介绍买卖毒品的行为应如何定性',\n",
    "    '1吸毒男动态持有大量毒品的行为该如何认定',\n",
    "    '2如何区分是非法种植毒品原植物罪还是非法制造毒品罪',\n",
    "    '3为毒贩贩卖毒品提供帮助构成贩卖毒品罪',\n",
    "    '4将自己吸食的毒品原价转让给朋友吸食的行为该如何认定',\n",
    "    '5为获报酬帮人购买毒品的行为该如何认定',\n",
    "    '6毒贩出狱后再次够买毒品途中被抓的行为认定',\n",
    "    '7虚夸毒品功效劝人吸食毒品的行为该如何认定',\n",
    "    '8妻子下落不明丈夫又与他人登记结婚是否为无效婚姻',\n",
    "    '9一方未签字办理的结婚登记是否有效',\n",
    "    '10夫妻双方1990年按农村习俗举办婚礼没有结婚证 一方可否起诉离婚',\n",
    "    '11结婚前对方父母出资购买的住房写我们二人的名字有效吗',\n",
    "    '12身份证被别人冒用无法登记结婚怎么办？',\n",
    "    '13同居后又与他人登记结婚是否构成重婚罪',\n",
    "    '14未办登记只举办结婚仪式可起诉离婚吗',\n",
    "    '15同居多年未办理结婚登记，是否可以向法院起诉要求离婚'\n",
    "]\n",
    "corpora_documents = []\n",
    "for item_text in raw_documents:\n",
    "    item_str = jieba.lcut(item_text)\n",
    "    print(item_str)\n",
    "    corpora_documents.append(item_str)\n",
    "# 生成字典和向量语料\n",
    "dictionary = corpora.Dictionary(corpora_documents)\n",
    "corpus = [dictionary.doc2bow(text) for text in corpora_documents]\n",
    "print(dictionary.token2id)\n",
    "list(corpus[1])"
   ]
  }
 ],
 "metadata": {
  "kernelspec": {
   "display_name": "ETM",
   "language": "python",
   "name": "python3"
  },
  "language_info": {
   "codemirror_mode": {
    "name": "ipython",
    "version": 3
   },
   "file_extension": ".py",
   "mimetype": "text/x-python",
   "name": "python",
   "nbconvert_exporter": "python",
   "pygments_lexer": "ipython3",
   "version": "3.6.13"
  },
  "orig_nbformat": 4
 },
 "nbformat": 4,
 "nbformat_minor": 2
}
